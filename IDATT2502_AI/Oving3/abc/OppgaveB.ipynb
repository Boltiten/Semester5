{
 "cells": [
  {
   "cell_type": "code",
   "execution_count": 1,
   "source": [
    "import torch\r\n",
    "import torch.nn as nn\r\n",
    "import torchvision\r\n"
   ],
   "outputs": [],
   "metadata": {}
  },
  {
   "cell_type": "code",
   "execution_count": 2,
   "source": [
    "# Load observations from the mnist dataset. The observations are divided into a training set and a test set\r\n",
    "mnist_train = torchvision.datasets.MNIST('./data', train=True, download=True)\r\n",
    "x_train = mnist_train.data.reshape(-1, 1, 28, 28).float()  # torch.functional.nn.conv2d argument must include channels (1)\r\n",
    "y_train = torch.zeros((mnist_train.targets.shape[0], 10))  # Create output tensor\r\n",
    "y_train[torch.arange(mnist_train.targets.shape[0]), mnist_train.targets] = 1  # Populate output\r\n",
    "\r\n",
    "mnist_test = torchvision.datasets.MNIST('./data', train=False, download=True)\r\n",
    "x_test = mnist_test.data.reshape(-1, 1, 28, 28).float()  # torch.functional.nn.conv2d argument must include channels (1)\r\n",
    "y_test = torch.zeros((mnist_test.targets.shape[0], 10))  # Create output tensor\r\n",
    "y_test[torch.arange(mnist_test.targets.shape[0]), mnist_test.targets] = 1  # Populate output\r\n"
   ],
   "outputs": [
    {
     "output_type": "stream",
     "name": "stderr",
     "text": [
      "C:\\Users\\Morten\\anaconda3\\lib\\site-packages\\torchvision\\datasets\\mnist.py:498: UserWarning: The given NumPy array is not writeable, and PyTorch does not support non-writeable tensors. This means you can write to the underlying (supposedly non-writeable) NumPy array using the tensor. You may want to copy the array to protect its data or make it writeable before converting it to a tensor. This type of warning will be suppressed for the rest of this program. (Triggered internally at  ..\\torch\\csrc\\utils\\tensor_numpy.cpp:180.)\n",
      "  return torch.from_numpy(parsed.astype(m[2], copy=False)).view(*s)\n"
     ]
    }
   ],
   "metadata": {}
  },
  {
   "cell_type": "code",
   "execution_count": 3,
   "source": [
    "# Normalization of inputs\r\n",
    "mean = x_train.mean()\r\n",
    "std = x_train.std()\r\n",
    "x_train = (x_train - mean) / std\r\n",
    "x_test = (x_test - mean) / std\r\n",
    "\r\n",
    "# Divide training data into batches to speed up optimization\r\n",
    "batches = 600\r\n",
    "x_train_batches = torch.split(x_train, batches)\r\n",
    "y_train_batches = torch.split(y_train, batches)\r\n"
   ],
   "outputs": [],
   "metadata": {}
  },
  {
   "cell_type": "code",
   "execution_count": 4,
   "source": [
    "class ConvolutionalNeuralNetworkModel(nn.Module):\r\n",
    "    def __init__(self):\r\n",
    "        super(ConvolutionalNeuralNetworkModel, self).__init__()\r\n",
    "\r\n",
    "        # Model layers (includes initialized model variables):\r\n",
    "        self.conv1 = nn.Conv2d(1, 32, kernel_size=5, padding=2)\r\n",
    "        self.pool = nn.MaxPool2d(kernel_size=2)\r\n",
    "        self.conv2 = nn.Conv2d(32, 64, kernel_size=5, padding=2)\r\n",
    "        self.dense1 = nn.Linear(64 * 7 * 7, 1024)\r\n",
    "        self.dense2 = nn.Linear(1024, 10)\r\n",
    "\r\n",
    "    def logits(self, x):\r\n",
    "        x = self.pool(self.conv1(x))\r\n",
    "        x = self.pool(self.conv2(x))\r\n",
    "        x = self.dense1(x.reshape(-1, 64 * 7 * 7))\r\n",
    "        x = self.dense2(x.reshape(-1, 1024))\r\n",
    "        return x\r\n",
    "\r\n",
    "    # Predictor\r\n",
    "    def f(self, x):\r\n",
    "        return torch.softmax(self.logits(x), dim=1)\r\n",
    "\r\n",
    "    # Cross Entropy loss\r\n",
    "    def loss(self, x, y):\r\n",
    "        return nn.functional.cross_entropy(self.logits(x), y.argmax(1))\r\n",
    "\r\n",
    "    # Accuracy\r\n",
    "    def accuracy(self, x, y):\r\n",
    "        return torch.mean(torch.eq(self.f(x).argmax(1), y.argmax(1)).float())\r\n",
    "\r\n",
    "model = ConvolutionalNeuralNetworkModel()\r\n"
   ],
   "outputs": [],
   "metadata": {}
  },
  {
   "cell_type": "code",
   "execution_count": 5,
   "source": [
    "# Optimize: adjust W and b to minimize loss using stochastic gradient descent\r\n",
    "optimizer = torch.optim.Adam(model.parameters(), 0.001)\r\n",
    "for epoch in range(4):\r\n",
    "    for batch in range(len(x_train_batches)):\r\n",
    "        model.loss(x_train_batches[batch], y_train_batches[batch]).backward()  # Compute loss gradients\r\n",
    "        optimizer.step()  # Perform optimization by adjusting W and b,\r\n",
    "        optimizer.zero_grad()  # Clear gradients for next step\r\n",
    "\r\n",
    "    \r\n",
    "print(\"accuracy = %s\" % model.accuracy(x_test, y_test))\r\n"
   ],
   "outputs": [
    {
     "output_type": "stream",
     "name": "stderr",
     "text": [
      "C:\\Users\\Morten\\anaconda3\\lib\\site-packages\\torch\\nn\\functional.py:718: UserWarning: Named tensors and all their associated APIs are an experimental feature and subject to change. Please do not use them for anything important until they are released as stable. (Triggered internally at  ..\\c10/core/TensorImpl.h:1156.)\n",
      "  return torch.max_pool2d(input, kernel_size, stride, padding, dilation, ceil_mode)\n"
     ]
    },
    {
     "output_type": "stream",
     "name": "stdout",
     "text": [
      "accuracy = tensor(0.9826)\n"
     ]
    }
   ],
   "metadata": {}
  }
 ],
 "metadata": {
  "orig_nbformat": 4,
  "language_info": {
   "name": "python",
   "version": "3.8.8",
   "mimetype": "text/x-python",
   "codemirror_mode": {
    "name": "ipython",
    "version": 3
   },
   "pygments_lexer": "ipython3",
   "nbconvert_exporter": "python",
   "file_extension": ".py"
  },
  "kernelspec": {
   "name": "python3",
   "display_name": "Python 3.8.8 64-bit ('base': conda)"
  },
  "interpreter": {
   "hash": "8b7a5e7e088dc87b16d72ecb84aa6dc0c370a308eb78f8481e88a4680c33e6f1"
  }
 },
 "nbformat": 4,
 "nbformat_minor": 2
}