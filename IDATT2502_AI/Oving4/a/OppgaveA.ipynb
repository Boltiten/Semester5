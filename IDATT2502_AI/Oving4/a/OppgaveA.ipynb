{
 "cells": [
  {
   "cell_type": "code",
   "execution_count": 13,
   "source": [
    "#Many to many LSTM\r\n",
    "#ta utgangspunkt i rnn/generate-characters og tren modellen på\r\n",
    "#bokstavene “ hello world “. Bruk"
   ],
   "outputs": [],
   "metadata": {}
  },
  {
   "cell_type": "code",
   "execution_count": 14,
   "source": [
    "import torch\r\n",
    "import torch.nn as nn"
   ],
   "outputs": [],
   "metadata": {}
  },
  {
   "cell_type": "code",
   "execution_count": 15,
   "source": [
    "class LongShortTermMemoryModel(nn.Module):\r\n",
    "    def __init__(self, encoding_size):\r\n",
    "        super(LongShortTermMemoryModel, self).__init__()\r\n",
    "\r\n",
    "        self.lstm = nn.LSTM(encoding_size, 128)  # 128 is the state size\r\n",
    "        self.dense = nn.Linear(128, encoding_size)  # 128 is the state size\r\n",
    "\r\n",
    "    def reset(self):  # Reset states prior to new input sequence\r\n",
    "        zero_state = torch.zeros(1, 1, 128)  # Shape: (number of layers, batch size, state size)\r\n",
    "        self.hidden_state = zero_state\r\n",
    "        self.cell_state = zero_state\r\n",
    "\r\n",
    "    def logits(self, x):  # x shape: (sequence length, batch size, encoding size)\r\n",
    "        out, (self.hidden_state, self.cell_state) = self.lstm(x, (self.hidden_state, self.cell_state))\r\n",
    "        return self.dense(out.reshape(-1, 128))\r\n",
    "\r\n",
    "    def f(self, x):  # x shape: (sequence length, batch size, encoding size)\r\n",
    "        return torch.softmax(self.logits(x), dim=1)\r\n",
    "\r\n",
    "    def loss(self, x, y):  # x shape: (sequence length, batch size, encoding size), y shape: (sequence length, encoding size)\r\n",
    "        return nn.functional.cross_entropy(self.logits(x), y.argmax(1))\r\n"
   ],
   "outputs": [],
   "metadata": {}
  },
  {
   "cell_type": "code",
   "execution_count": 16,
   "source": [
    "char_encodings = [\r\n",
    "    [1., 0., 0., 0., 0., 0., 0., 0.],  # ' '\r\n",
    "    [0., 1., 0., 0., 0., 0., 0., 0.],  # 'h'\r\n",
    "    [0., 0., 1., 0., 0., 0., 0., 0.],  # 'e'\r\n",
    "    [0., 0., 0., 1., 0., 0., 0., 0.],  # 'l'\r\n",
    "    [0., 0., 0., 0., 1., 0., 0., 0.],  # 'o'\r\n",
    "    [0., 0., 0., 0., 0., 1., 0., 0.],  # 'w'\r\n",
    "    [0., 0., 0., 0., 0., 0., 1., 0.],  # 'r'\r\n",
    "    [0., 0., 0., 0., 0., 0., 0., 1.]   # 'd'\r\n",
    "]\r\n",
    "encoding_size = len(char_encodings)\r\n",
    "#                 0    1    2    3    4   5   6   7\r\n",
    "index_to_char = [' ', 'h', 'e', 'l', 'o','w','r','d']"
   ],
   "outputs": [],
   "metadata": {}
  },
  {
   "cell_type": "code",
   "execution_count": 17,
   "source": [
    "x_train = torch.tensor([[char_encodings[0]], [char_encodings[1]], [char_encodings[2]], \r\n",
    "                        [char_encodings[3]], [char_encodings[3]], [char_encodings[4]], \r\n",
    "                        [char_encodings[0]], [char_encodings[5]], [char_encodings[4]], \r\n",
    "                        [char_encodings[6]], [char_encodings[3]], [char_encodings[7]], [char_encodings[0]]])  # ' hello world '\r\n",
    "y_train = torch.tensor([char_encodings[1], char_encodings[2], char_encodings[3], \r\n",
    "                        char_encodings[3], char_encodings[4], char_encodings[0],\r\n",
    "                        char_encodings[5], char_encodings[4], char_encodings[6], \r\n",
    "                        char_encodings[3], char_encodings[7], char_encodings[0], char_encodings[1]])  # 'hello world h'\r\n",
    "\r\n",
    "model = LongShortTermMemoryModel(encoding_size)\r\n"
   ],
   "outputs": [],
   "metadata": {}
  },
  {
   "cell_type": "code",
   "execution_count": 18,
   "source": [
    "optimizer = torch.optim.RMSprop(model.parameters(), 0.001)\r\n",
    "for epoch in range(500):\r\n",
    "    model.reset()\r\n",
    "    model.loss(x_train, y_train).backward()\r\n",
    "    optimizer.step()\r\n",
    "    optimizer.zero_grad()\r\n",
    "\r\n",
    "    if epoch % 10 == 9:\r\n",
    "        # Generate characters from the initial characters ' h'\r\n",
    "        model.reset()\r\n",
    "        text = ' h'\r\n",
    "        model.f(torch.tensor([[char_encodings[0]]]))\r\n",
    "        y = model.f(torch.tensor([[char_encodings[1]]]))\r\n",
    "        text += index_to_char[y.argmax(1)]\r\n",
    "        for c in range(50):\r\n",
    "            y = model.f(torch.tensor([[char_encodings[y.argmax(1)]]]))\r\n",
    "            text += index_to_char[y.argmax(1)]\r\n",
    "        print(text)\r\n"
   ],
   "outputs": [
    {
     "output_type": "stream",
     "name": "stdout",
     "text": [
      " hllooo   hd hhhhhhhhhhhhhhhhhhhhhhhhhhhhhhhhhhhhhhhh\n",
      " hlllo wlld hhhll hhhlhhhhhhhhhhhhhhhhhhhhhhhhhhhhhhh\n",
      " hlllo wrld hhlll hhlll hhlll hhlll hhll  hhll hhhll \n",
      " hello world hhlll  hhlll hhlll  hhlll hhlll hhhlll h\n",
      " hello world hhlll  hhlld hhlll  hhlll hhlll  hhlll h\n",
      " hello world hhlll  hhlld hhlll  hhlll hhlll  hhlll h\n",
      " hello world hhlllo hhlld hhlll  hhlld hhlll  hhlll h\n",
      " hello world hhlllo hhlld hhlll  hhlld hhlll  hhlld h\n",
      " hello world hhello world hhello hhlld hhlll  hhlld h\n",
      " hello world hhello world hhello hhlld hhello hhlld h\n",
      " hello world hhello world hhello hhlld hhello hhlld h\n",
      " hello world hhello world hhello holld hhello world h\n",
      " hello world hhello world hhello world hhello world h\n",
      " hello world hhello world hhello world hhello world h\n",
      " hello world hhello world hhello world hhello world h\n",
      " hello world hhello world hhello world hhello world h\n",
      " hello world hhello world hhello world hhello world h\n",
      " hello world hhello world hhello world hhello world h\n",
      " hello world hhello world hhello world hhello world h\n",
      " hello world hhello world hhello world hhello world h\n",
      " hello world hhello world hhello world hhello world h\n",
      " hello world hhello world hhell  world hhell  world h\n",
      " hello world hhell  world hhell  world hhell  world h\n",
      " hello world helll world hhell  world helll world hhe\n",
      " hello world helll world helll world hhell  world hel\n",
      " hello world helll world helll world helll world hell\n",
      " hello world helll world helll world helll world hell\n",
      " hello world helll world helll world helll world hell\n",
      " hello world helll world helll world helll world hell\n",
      " hello world helll world helll world helll world hell\n",
      " hello world helll world helll world helll world hell\n",
      " hello world helll world helll world helll world hell\n",
      " hello world helll world helll world helll world hell\n",
      " hello world helll world helll world helll world hell\n",
      " hello world helll world helll world helll world hell\n",
      " hello world helll world helll world helll world hell\n",
      " hello world helll world helll world helll world hell\n",
      " hello world helll world helll world helll world hell\n",
      " hello world hello world hello world hello world hell\n",
      " hello world hello world hello world hello world hell\n",
      " hello world hello world hello world hello world hell\n",
      " hello world hello world hello world hello world hell\n",
      " hello world hello world hello world hello world hell\n",
      " hello world hello world hello world hello world hell\n",
      " hello world hello world hello world hello world hell\n",
      " hello world hello world hello world hello world hell\n",
      " hello world hello world hello world hello world hell\n",
      " hello world hello world hello world hello world hell\n",
      " hello world hello world hello world hello world hell\n",
      " hello world hello world hello world hello world hell\n"
     ]
    }
   ],
   "metadata": {}
  }
 ],
 "metadata": {
  "orig_nbformat": 4,
  "language_info": {
   "name": "python",
   "version": "3.8.10",
   "mimetype": "text/x-python",
   "codemirror_mode": {
    "name": "ipython",
    "version": 3
   },
   "pygments_lexer": "ipython3",
   "nbconvert_exporter": "python",
   "file_extension": ".py"
  },
  "kernelspec": {
   "name": "python3",
   "display_name": "Python 3.8.10 64-bit (windows store)"
  },
  "interpreter": {
   "hash": "73cdb8068fb29a4d992b50a8130c5699128e49a23c234139f6f5107947219a38"
  }
 },
 "nbformat": 4,
 "nbformat_minor": 2
}