{
 "cells": [
  {
   "cell_type": "code",
   "execution_count": 2,
   "source": [
    "#Many to many LSTM\r\n",
    "#ta utgangspunkt i rnn/generate-characters og tren modellen på\r\n",
    "#bokstavene “ hello world “. Bruk"
   ],
   "outputs": [],
   "metadata": {}
  },
  {
   "cell_type": "code",
   "execution_count": 4,
   "source": [
    "import torch\r\n",
    "import torch.nn as nn"
   ],
   "outputs": [],
   "metadata": {}
  },
  {
   "cell_type": "code",
   "execution_count": 5,
   "source": [
    "class LongShortTermMemoryModel(nn.Module):\r\n",
    "    def __init__(self, encoding_size):\r\n",
    "        super(LongShortTermMemoryModel, self).__init__()\r\n",
    "\r\n",
    "        self.lstm = nn.LSTM(encoding_size, 128)  # 128 is the state size\r\n",
    "        self.dense = nn.Linear(128, encoding_size)  # 128 is the state size\r\n",
    "\r\n",
    "    def reset(self):  # Reset states prior to new input sequence\r\n",
    "        zero_state = torch.zeros(1, 1, 128)  # Shape: (number of layers, batch size, state size)\r\n",
    "        self.hidden_state = zero_state\r\n",
    "        self.cell_state = zero_state\r\n",
    "\r\n",
    "    def logits(self, x):  # x shape: (sequence length, batch size, encoding size)\r\n",
    "        out, (self.hidden_state, self.cell_state) = self.lstm(x, (self.hidden_state, self.cell_state))\r\n",
    "        return self.dense(out.reshape(-1, 128))\r\n",
    "\r\n",
    "    def f(self, x):  # x shape: (sequence length, batch size, encoding size)\r\n",
    "        return torch.softmax(self.logits(x), dim=1)\r\n",
    "\r\n",
    "    def loss(self, x, y):  # x shape: (sequence length, batch size, encoding size), y shape: (sequence length, encoding size)\r\n",
    "        return nn.functional.cross_entropy(self.logits(x), y.argmax(1))\r\n"
   ],
   "outputs": [],
   "metadata": {}
  },
  {
   "cell_type": "code",
   "execution_count": 6,
   "source": [
    "char_encodings = [\r\n",
    "    [1., 0., 0., 0., 0.],  # ' '\r\n",
    "    [0., 1., 0., 0., 0.],  # 'h'\r\n",
    "    [0., 0., 1., 0., 0.],  # 'e'\r\n",
    "    [0., 0., 0., 1., 0.],  # 'l'\r\n",
    "    [0., 0., 0., 0., 1.],  # 'o'\r\n",
    "]\r\n",
    "encoding_size = len(char_encodings)\r\n",
    "\r\n",
    "index_to_char = [' ', 'h', 'e', 'l', 'o']"
   ],
   "outputs": [],
   "metadata": {}
  },
  {
   "cell_type": "code",
   "execution_count": 7,
   "source": [
    "x_train = torch.tensor([[char_encodings[0]], [char_encodings[1]], [char_encodings[2]], [char_encodings[3]], [char_encodings[3]],\r\n",
    "                        [char_encodings[4]]])  # ' hello'\r\n",
    "y_train = torch.tensor([char_encodings[1], char_encodings[2], char_encodings[3], char_encodings[3], char_encodings[4], char_encodings[0]])  # 'hello '\r\n",
    "\r\n",
    "model = LongShortTermMemoryModel(encoding_size)\r\n"
   ],
   "outputs": [],
   "metadata": {}
  },
  {
   "cell_type": "code",
   "execution_count": 8,
   "source": [
    "optimizer = torch.optim.RMSprop(model.parameters(), 0.001)\r\n",
    "for epoch in range(500):\r\n",
    "    model.reset()\r\n",
    "    model.loss(x_train, y_train).backward()\r\n",
    "    optimizer.step()\r\n",
    "    optimizer.zero_grad()\r\n",
    "\r\n",
    "    if epoch % 10 == 9:\r\n",
    "        # Generate characters from the initial characters ' h'\r\n",
    "        model.reset()\r\n",
    "        text = ' h'\r\n",
    "        model.f(torch.tensor([[char_encodings[0]]]))\r\n",
    "        y = model.f(torch.tensor([[char_encodings[1]]]))\r\n",
    "        text += index_to_char[y.argmax(1)]\r\n",
    "        for c in range(50):\r\n",
    "            y = model.f(torch.tensor([[char_encodings[y.argmax(1)]]]))\r\n",
    "            text += index_to_char[y.argmax(1)]\r\n",
    "        print(text)\r\n"
   ],
   "outputs": [
    {
     "output_type": "stream",
     "name": "stdout",
     "text": [
      " hlllo                                               \n",
      " hello             ello              ello            \n",
      " hello           ello            ello            ello\n",
      " hello          ello          eello          eello   \n",
      " hello         eello         eello         eello     \n",
      " hello        hello         eello        hello       \n",
      " hello        hello         ello         ello        \n",
      " hello        hello        hello        hello        \n",
      " hello        eello        eello        eello        \n",
      " hello        eell        hello        eello        e\n",
      " hello        eelo        eell        hello        ee\n",
      " hello        eelo        eelo        eelo        eel\n",
      " hello        ello        ello        ello        ell\n",
      " hello       hello        ello        ello        ell\n",
      " hello       hello        ello        ello        ell\n",
      " hello       hello        ello        ello        ell\n",
      " hello       hello       hello       hello       hell\n",
      " hello       hello       hello       hello       eelo\n",
      " hello       hello       hello       eelo        ello\n",
      " hello       hello       eelo        ello        ello\n",
      " hello       hello       eelo       helo        ello \n",
      " hello       hello       ello       helo        ello \n",
      " hello       hell        ello        ello       helo \n",
      " hello       helo        ello       helo       helo  \n",
      " hello       eelo       eelo       eelo       eelo   \n",
      " hello       eelo       eelo       eelo       eelo   \n",
      " hello       eelo       eelo       eelo       eelo   \n",
      " hello       eelo       eelo       eelo       eelo   \n",
      " hello       eelo       ello       ello       ello   \n",
      " hello       eelo       ello       ello       ello   \n",
      " hello       ello       ello       ello       ello   \n",
      " hello       ello       ello       ello       ello   \n",
      " hello       ello       ello       ello       ello   \n",
      " hello       ello       ello       ello       ello   \n",
      " hello       ello       ello       ello       ello   \n",
      " hello       ello       ello       ello       ello   \n",
      " hello       ello       ello       ello       ello   \n",
      " hello       ello       ello       ello       ello   \n",
      " hello       ello       ello       ello       ello   \n",
      " hello       ello       ello       ello       ello   \n",
      " hello       ello       ello       ello       ello   \n",
      " hello       ello       ello       ello       ello   \n",
      " hello       ello       ello       ello       ello   \n",
      " hello       ello       ello       ello       ello   \n",
      " hello       ello       ello       ello       ello   \n",
      " hello       ello       ello       ello       ello   \n",
      " hello       ello       ello       ello       ello   \n",
      " hello       ello       ello       ello       ello   \n",
      " hello       ello       ello       ello       ello   \n",
      " hello       ello       ello       ello       ello   \n"
     ]
    }
   ],
   "metadata": {}
  }
 ],
 "metadata": {
  "orig_nbformat": 4,
  "language_info": {
   "name": "python",
   "version": "3.8.8",
   "mimetype": "text/x-python",
   "codemirror_mode": {
    "name": "ipython",
    "version": 3
   },
   "pygments_lexer": "ipython3",
   "nbconvert_exporter": "python",
   "file_extension": ".py"
  },
  "kernelspec": {
   "name": "python3",
   "display_name": "Python 3.8.8 64-bit ('base': conda)"
  },
  "interpreter": {
   "hash": "8b7a5e7e088dc87b16d72ecb84aa6dc0c370a308eb78f8481e88a4680c33e6f1"
  }
 },
 "nbformat": 4,
 "nbformat_minor": 2
}