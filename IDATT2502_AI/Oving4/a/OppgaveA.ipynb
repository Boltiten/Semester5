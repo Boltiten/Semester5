{
 "cells": [
  {
   "cell_type": "code",
   "execution_count": 18,
   "source": [
    "#Many to many LSTM\r\n",
    "#ta utgangspunkt i rnn/generate-characters og tren modellen på\r\n",
    "#bokstavene “ hello world “. Bruk"
   ],
   "outputs": [],
   "metadata": {}
  },
  {
   "cell_type": "code",
   "execution_count": 19,
   "source": [
    "import torch\r\n",
    "import torch.nn as nn"
   ],
   "outputs": [],
   "metadata": {}
  },
  {
   "cell_type": "code",
   "execution_count": 20,
   "source": [
    "class LongShortTermMemoryModel(nn.Module):\r\n",
    "    def __init__(self, encoding_size):\r\n",
    "        super(LongShortTermMemoryModel, self).__init__()\r\n",
    "\r\n",
    "        self.lstm = nn.LSTM(encoding_size, 128)  # 128 is the state size\r\n",
    "        self.dense = nn.Linear(128, encoding_size)  # 128 is the state size\r\n",
    "\r\n",
    "    def reset(self):  # Reset states prior to new input sequence\r\n",
    "        zero_state = torch.zeros(1, 1, 128)  # Shape: (number of layers, batch size, state size)\r\n",
    "        self.hidden_state = zero_state\r\n",
    "        self.cell_state = zero_state\r\n",
    "\r\n",
    "    def logits(self, x):  # x shape: (sequence length, batch size, encoding size)\r\n",
    "        out, (self.hidden_state, self.cell_state) = self.lstm(x, (self.hidden_state, self.cell_state))\r\n",
    "        return self.dense(out.reshape(-1, 128))\r\n",
    "\r\n",
    "    def f(self, x):  # x shape: (sequence length, batch size, encoding size)\r\n",
    "        return torch.softmax(self.logits(x), dim=1)\r\n",
    "\r\n",
    "    def loss(self, x, y):  # x shape: (sequence length, batch size, encoding size), y shape: (sequence length, encoding size)\r\n",
    "        return nn.functional.cross_entropy(self.logits(x), y.argmax(1))\r\n"
   ],
   "outputs": [],
   "metadata": {}
  },
  {
   "cell_type": "code",
   "execution_count": 21,
   "source": [
    "char_encodings = [\r\n",
    "    [1., 0., 0., 0., 0., 0., 0., 0.],  # ' '\r\n",
    "    [0., 1., 0., 0., 0., 0., 0., 0.],  # 'h'\r\n",
    "    [0., 0., 1., 0., 0., 0., 0., 0.],  # 'e'\r\n",
    "    [0., 0., 0., 1., 0., 0., 0., 0.],  # 'l'\r\n",
    "    [0., 0., 0., 0., 1., 0., 0., 0.],  # 'o'\r\n",
    "    [0., 0., 0., 0., 0., 1., 0., 0.],  # 'w'\r\n",
    "    [0., 0., 0., 0., 0., 0., 1., 0.],  # 'r'\r\n",
    "    [0., 0., 0., 0., 0., 0., 0., 1.]   # 'd'\r\n",
    "]\r\n",
    "encoding_size = len(char_encodings)\r\n",
    "#                 0    1    2    3    4   5   6   7\r\n",
    "index_to_char = [' ', 'h', 'e', 'l', 'o','w','r','d']"
   ],
   "outputs": [],
   "metadata": {}
  },
  {
   "cell_type": "code",
   "execution_count": 22,
   "source": [
    "x_train = torch.tensor([[char_encodings[0]], [char_encodings[1]], [char_encodings[2]], \r\n",
    "                        [char_encodings[3]], [char_encodings[3]], [char_encodings[4]], \r\n",
    "                        [char_encodings[0]], [char_encodings[5]], [char_encodings[4]], \r\n",
    "                        [char_encodings[6]], [char_encodings[3]], [char_encodings[7]]])  # ' hello world'\r\n",
    "y_train = torch.tensor([char_encodings[1], char_encodings[2], char_encodings[3], \r\n",
    "                        char_encodings[3], char_encodings[4], char_encodings[0],\r\n",
    "                        char_encodings[5], char_encodings[4], char_encodings[6], \r\n",
    "                        char_encodings[3], char_encodings[7], char_encodings[0]])  # 'hello world'\r\n",
    "\r\n",
    "model = LongShortTermMemoryModel(encoding_size)\r\n"
   ],
   "outputs": [],
   "metadata": {}
  },
  {
   "cell_type": "code",
   "execution_count": 23,
   "source": [
    "optimizer = torch.optim.RMSprop(model.parameters(), 0.001)\r\n",
    "for epoch in range(500):\r\n",
    "    model.reset()\r\n",
    "    model.loss(x_train, y_train).backward()\r\n",
    "    optimizer.step()\r\n",
    "    optimizer.zero_grad()\r\n",
    "\r\n",
    "    if epoch % 10 == 9:\r\n",
    "        # Generate characters from the initial characters ' h'\r\n",
    "        model.reset()\r\n",
    "        text = ' h'\r\n",
    "        model.f(torch.tensor([[char_encodings[0]]]))\r\n",
    "        y = model.f(torch.tensor([[char_encodings[1]]]))\r\n",
    "        text += index_to_char[y.argmax(1)]\r\n",
    "        for c in range(50):\r\n",
    "            y = model.f(torch.tensor([[char_encodings[y.argmax(1)]]]))\r\n",
    "            text += index_to_char[y.argmax(1)]\r\n",
    "        print(text)\r\n"
   ],
   "outputs": [
    {
     "output_type": "stream",
     "name": "stdout",
     "text": [
      " hlloooo                                             \n",
      " hlllooworld                                         \n",
      " hlllo world    rld    rld    rld    rrld    rld    r\n",
      " hello world   wrld   wrld   wrld   wrld   wrld   wrl\n",
      " hello world  world  wrrld  wrld   wrld  world  world\n",
      " hello world  wrlld  wrld  world  wrlld  wrld  world \n",
      " hello world  wrld  world  wrlld world  wrlld world  \n",
      " hello world  wrld  world  wrld  world  wrld  world  \n",
      " hello world  wrld  world  wrld  world  wrld  world  \n",
      " hello world  wrld  world  wrld  world  wrld  world  \n",
      " hello world  wrld  world world  wrll  world  wrld  w\n",
      " hello world  wrld  world world  wrll  world world  w\n",
      " hello world world  wrll  world world  wrll  world wo\n",
      " hello world world  wrll  world world  wrll  world wo\n",
      " hello world world world  wrll  world world world  wr\n",
      " hello world world world  wrll  world world world  wr\n",
      " hello world world world world world world  wrll  wor\n",
      " hello world world world world world world world worl\n",
      " hello world world world world world world world worl\n",
      " hello world world world world world world world worl\n",
      " hello world world world world world world world worl\n",
      " hello world world world world world world world worl\n",
      " hello world world world world world world world worl\n",
      " hello world world world world world world world worl\n",
      " hello world world world world world world world worl\n",
      " hello world world world world world world world worl\n",
      " hello world world world world world world world worl\n",
      " hello world world world world world world world worl\n",
      " hello world world world world world world world worl\n",
      " hello world world world world world world world worl\n",
      " hello world world world world world world world worl\n",
      " hello world world world world world world world worl\n",
      " hello world world world world world world world worl\n",
      " hello world world world world world world world worl\n",
      " hello world world world world world world world worl\n",
      " hello world world world world world world world worl\n",
      " hello world world world world world world world worl\n",
      " hello world world world world world world world worl\n",
      " hello world world world world world world world worl\n",
      " hello world world world world world world world worl\n",
      " hello world world world world world world world worl\n",
      " hello world world world world world world world worl\n",
      " hello world world world world world world world worl\n",
      " hello world world world world world world world worl\n",
      " hello world world world world world world world worl\n",
      " hello world world world world world world world worl\n",
      " hello world world world world world world world worl\n",
      " hello world world world world world world world worl\n",
      " hello world world world world world world world worl\n",
      " hello world world world world world world world worl\n"
     ]
    }
   ],
   "metadata": {}
  }
 ],
 "metadata": {
  "orig_nbformat": 4,
  "language_info": {
   "name": "python",
   "version": "3.8.8",
   "mimetype": "text/x-python",
   "codemirror_mode": {
    "name": "ipython",
    "version": 3
   },
   "pygments_lexer": "ipython3",
   "nbconvert_exporter": "python",
   "file_extension": ".py"
  },
  "kernelspec": {
   "name": "python3",
   "display_name": "Python 3.8.8 64-bit ('base': conda)"
  },
  "interpreter": {
   "hash": "8b7a5e7e088dc87b16d72ecb84aa6dc0c370a308eb78f8481e88a4680c33e6f1"
  }
 },
 "nbformat": 4,
 "nbformat_minor": 2
}