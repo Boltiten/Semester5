{
 "cells": [
  {
   "cell_type": "code",
   "execution_count": null,
   "source": [
    "#Many to one LSTM\r\n",
    "#tren modellen ulike ord (bruk fortsatt bokstavkoding som i oppgave a)\r\n",
    "#for emojis, for eksempel “hat ”: , “rat “: , “cat “: , “flat”: ,\r\n",
    "#“matt”: , “cap “: , “son ”: . For å kunne trene i batches er\r\n",
    "#ordene padded med mellomrom på slutten (hvis ordene er mindre enn\r\n",
    "#makslengden).\r\n",
    "#Test deretter modellen på ord som “rt ” og “rats”, og se hvilken emoji\r\n",
    "#du får"
   ],
   "outputs": [],
   "metadata": {}
  },
  {
   "cell_type": "code",
   "execution_count": null,
   "source": [
    "import torch\r\n",
    "import torch.nn as nn"
   ],
   "outputs": [],
   "metadata": {}
  }
 ],
 "metadata": {
  "orig_nbformat": 4,
  "language_info": {
   "name": "python"
  }
 },
 "nbformat": 4,
 "nbformat_minor": 2
}