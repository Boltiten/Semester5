{
 "cells": [
  {
   "cell_type": "code",
   "execution_count": 2,
   "metadata": {},
   "outputs": [],
   "source": [
    "import numpy as np\n",
    "from time import sleep\n",
    "import gym\n",
    "import random\n",
    "import matplotlib.pyplot as plt"
   ]
  },
  {
   "cell_type": "code",
   "execution_count": 3,
   "metadata": {},
   "outputs": [
    {
     "name": "stdout",
     "output_type": "stream",
     "text": [
      "Action space:  2\n",
      "State space:  4\n"
     ]
    }
   ],
   "source": [
    "env = gym.make('CartPole-v0')\n",
    "print(\"Action space: \", env.action_space.n)\n",
    "print(\"State space: \", env.observation_space.shape[0])"
   ]
  },
  {
   "cell_type": "code",
   "execution_count": 4,
   "metadata": {},
   "outputs": [],
   "source": [
    "def discretize_state(state, bins):\n",
    "\tdiscretized = []\n",
    "\tfor i in range(len(state)):\n",
    "\t\tdiscretized.append(np.digitize(state[i], bins[i]) - 1)\n",
    "\treturn tuple(discretized)"
   ]
  },
  {
   "cell_type": "code",
   "execution_count": 5,
   "metadata": {},
   "outputs": [
    {
     "name": "stdout",
     "output_type": "stream",
     "text": [
      "(30, 30, 30, 30, 2)\n"
     ]
    }
   ],
   "source": [
    "bins = [np.linspace(-4.8, 4.8, 30),\n",
    "\t\tnp.linspace(-4,4, 30),\n",
    "\t\tnp.linspace(-0.418, 0.418, 30),\n",
    "\t\tnp.linspace(-4,4, 30)]\n",
    "\t\n",
    "\n",
    "\n",
    "q_table = np.random.uniform(low=-1, high = 1, size=([30] * 4 + [2]))\n",
    "\n",
    "lr = 0.15\n",
    "gamma = 0.99\n",
    "epsilon = 0.1\n",
    "\n",
    "all_epochs = []\n",
    "all_penalties = []\n",
    "\n",
    "print(q_table.shape)"
   ]
  },
  {
   "cell_type": "code",
   "execution_count": 6,
   "metadata": {},
   "outputs": [],
   "source": [
    "for i in range(1, 5000):\n",
    "\tstate = discretize_state(env.reset(), bins)\n",
    "\n",
    "\tepochs, reward = 0,0\n",
    "\taction = -1\n",
    "\tdone  = False\n",
    "\twhile not done:\n",
    "\t\tif(random.uniform(0, 1) < epsilon):\n",
    "\t\t\taction = env.action_space.sample()\n",
    "\t\telse:\n",
    "\t\t\taction = np.argmax(q_table[state])\n",
    "\t\t\n",
    "\t\tnext_state, reward, done, info = env.step(action)\n",
    "\t\tnext_state = discretize_state(next_state, bins)\n",
    "\t\t\n",
    "\t\told_value = q_table[state + (action, )]\n",
    "\t\tnext_max = np.max(q_table[next_state])\n",
    "\t\tnew_value = (1-lr)*old_value + lr * (reward + gamma * next_max )\n",
    "\t\tq_table[state + (action, )] = new_value\n",
    "\t\t\n",
    "\t\tstate = next_state\n",
    "\t\tepochs +=1\n",
    "\t\n",
    "\t\n",
    "\tall_epochs.append(epochs)"
   ]
  },
  {
   "cell_type": "code",
   "execution_count": 7,
   "metadata": {},
   "outputs": [
    {
     "data": {
      "text/plain": [
       "<matplotlib.legend.Legend at 0x284728a2730>"
      ]
     },
     "execution_count": 7,
     "metadata": {},
     "output_type": "execute_result"
    },
    {
     "data": {
      "image/png": "[encoded data removed]",
      "text/plain": [
       "<Figure size 432x288 with 1 Axes>"
      ]
     },
     "metadata": {
      "needs_background": "light"
     },
     "output_type": "display_data"
    }
   ],
   "source": [
    "plt.plot(all_epochs, c='blue', label='epochs')\n",
    "plt.legend()"
   ]
  },
  {
   "cell_type": "code",
   "execution_count": 8,
   "metadata": {},
   "outputs": [
    {
     "name": "stdout",
     "output_type": "stream",
     "text": [
      "Results after 100 episodes\n",
      "Average epochs per run: 163.45\n"
     ]
    }
   ],
   "source": [
    "# Evaluation\n",
    "episodes = 100\n",
    "total_epochs = 0\n",
    "\n",
    "for i in range(episodes):\n",
    "\tstate = discretize_state(env.reset(), bins)\n",
    "\n",
    "\tepochs, reward = 0,0\n",
    "\tdone  = False\n",
    "\twhile not done:\n",
    "\t\taction = np.argmax(q_table[state])\n",
    "\t\tstate, reward, done, info = env.step(action)\n",
    "\t\tstate = discretize_state(state, bins)\n",
    "\t\tepochs += 1\n",
    "\t\tif(i == episodes -1):\n",
    "\t\t\tenv.render()\n",
    "\t\t\tsleep(0.01)\n",
    "\ttotal_epochs += epochs\n",
    "\n",
    "\t\n",
    "\n",
    "env.close()\n",
    "\n",
    "print(f\"Results after {episodes} episodes\")\n",
    "print(f\"Average epochs per run: {round(total_epochs/episodes,3)}\")"
   ]
  }
 ],
 "metadata": {
  "interpreter": {
   "hash": "73cdb8068fb29a4d992b50a8130c5699128e49a23c234139f6f5107947219a38"
  },
  "kernelspec": {
   "display_name": "Python 3.8.10 64-bit (windows store)",
   "name": "python3"
  },
  "language_info": {
   "codemirror_mode": {
    "name": "ipython",
    "version": 3
   },
   "file_extension": ".py",
   "mimetype": "text/x-python",
   "name": "python",
   "nbconvert_exporter": "python",
   "pygments_lexer": "ipython3",
   "version": "3.8.10"
  },
  "orig_nbformat": 4
 },
 "nbformat": 4,
 "nbformat_minor": 2
}
