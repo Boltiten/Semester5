{
 "cells": [
  {
   "cell_type": "markdown",
   "metadata": {},
   "source": [
    "2A. Q-Læring: Gridworld med visualisering\n",
    "Lag et enkelt gridworld-environment. Dette innebærer at environmentet har et\n",
    "diskret rutenett, og at en agent kan bevege seg rundt med fire handlinger (opp,\n",
    "ned, høyre, venstre). Simuleringen terminerer n˚ar agenten har n˚add et plassert\n",
    "m˚al-posisjon som gir reward 1. Om man ønsker, kan det legges inn f.eks. solide\n",
    "vegger eller farlige omr˚ader som gir straff rundt omkring. Environmentet skal\n",
    "ha samme interface som cartpole (.step(a)-funksjon, og .reset())\n",
    "Deretter skal implementasjonen av Q-læring fra forrige oppgave brukes for ˚a\n",
    "trene en agent i environmentet. Til slutt skal Q-verdiene visualiseres inne i selve\n",
    "environmentet, og dette kan gjøres p˚a flere m˚ater. En m˚ate er˚a fargelegge rutene\n",
    "basert p˚a den høyeste Q-verdien fra tilsvarende rad i Q-tabellen. Alternativt s˚a\n",
    "kan man tegne inn piler som peker i samme retning som handlingen med høyest\n",
    "Q-verdi.\n",
    "Tips: Biblioteket pygame er veldig greit for ˚a lage visualisering av environmentet.\n"
   ]
  },
  {
   "cell_type": "code",
   "execution_count": 1,
   "metadata": {},
   "outputs": [],
   "source": [
    "import numpy as np\n",
    "from time import sleep\n",
    "import random\n",
    "from environment import Environment\n",
    "import matplotlib.pyplot as plt"
   ]
  },
  {
   "cell_type": "code",
   "execution_count": 3,
   "metadata": {},
   "outputs": [],
   "source": [
    "env = Environment()\n",
    "\n",
    "\n",
    "lr = 0.1\n",
    "gamma = 0.95\n",
    "epsilon = 0.2"
   ]
  }
 ],
 "metadata": {
  "interpreter": {
   "hash": "73cdb8068fb29a4d992b50a8130c5699128e49a23c234139f6f5107947219a38"
  },
  "kernelspec": {
   "display_name": "Python 3.8.10 64-bit (windows store)",
   "name": "python3"
  },
  "language_info": {
   "codemirror_mode": {
    "name": "ipython",
    "version": 3
   },
   "file_extension": ".py",
   "mimetype": "text/x-python",
   "name": "python",
   "nbconvert_exporter": "python",
   "pygments_lexer": "ipython3",
   "version": "3.8.10"
  },
  "orig_nbformat": 4
 },
 "nbformat": 4,
 "nbformat_minor": 2
}
