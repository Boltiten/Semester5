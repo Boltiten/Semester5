{
 "cells": [
  {
   "cell_type": "code",
   "execution_count": 46,
   "source": [
    "# 0) Prepare data\r\n",
    "# 1) Design model (input, output size, forward pass)\r\n",
    "# 2) Construct loss and optimizer\r\n",
    "# 3) training loop\r\n",
    "#       - Forward pass: compute prediction\r\n",
    "#       - Backward pass: gradients\r\n",
    "#       - update weights"
   ],
   "outputs": [],
   "metadata": {}
  },
  {
   "cell_type": "code",
   "execution_count": 47,
   "source": [
    "import torch\r\n",
    "import torch.nn as nn\r\n",
    "import numpy as np\r\n",
    "from sklearn import datasets\r\n",
    "from sklearn.preprocessing import StandardScaler\r\n",
    "from sklearn.model_selection import train_test_split\r\n",
    "import matplotlib.pyplot as plt"
   ],
   "outputs": [],
   "metadata": {}
  },
  {
   "cell_type": "code",
   "execution_count": 48,
   "source": [
    "# 0) prepare data!\r\n",
    "bc = datasets.load_breast_cancer()\r\n",
    "X, y = bc.data, bc.target\r\n",
    "\r\n",
    "X_train, X_test, y_train, y_test = train_test_split(X,y,test_size=0.2, random_state=1234)\r\n",
    "\r\n",
    "#scale\r\n",
    "sc = StandardScaler()\r\n",
    "X_train = sc.fit_transform(X_train)\r\n",
    "X_test = sc.transform(X_test)\r\n",
    "\r\n",
    "X_train = torch.from_numpy(X_train.astype(np.float32))\r\n",
    "X_test = torch.from_numpy(X_test.astype(np.float32))\r\n",
    "y_train = torch.from_numpy(y_train.astype(np.float32)).reshape(-1,1)\r\n",
    "y_test = torch.from_numpy(y_test.astype(np.float32)).reshape(-1,1)\r\n",
    "\r\n",
    "\r\n",
    "n_samples, n_features = X.shape"
   ],
   "outputs": [],
   "metadata": {}
  },
  {
   "cell_type": "code",
   "execution_count": 49,
   "source": [
    "# 1) model\r\n",
    "input_size = n_features\r\n",
    "output_size = 1\r\n",
    "\r\n",
    "class LogtisticRegression(nn.Module):\r\n",
    "    def __init__(self, n_input_features):\r\n",
    "        super(LogtisticRegression,self).__init__()\r\n",
    "        self.linear = nn.Linear(n_input_features,1)\r\n",
    "\r\n",
    "    def forward(self,x):\r\n",
    "        y_predicted = torch.sigmoid(self.linear(x))\r\n",
    "        return y_predicted\r\n",
    "\r\n",
    "model = LogtisticRegression(n_features)\r\n",
    "\r\n"
   ],
   "outputs": [],
   "metadata": {}
  },
  {
   "cell_type": "code",
   "execution_count": 50,
   "source": [
    "# 2) loss and optimizer\r\n",
    "learning_rate = 0.01\r\n",
    "criterion = nn.BCELoss()\r\n",
    "optimizer = torch.optim.SGD(model.parameters(), lr=learning_rate)"
   ],
   "outputs": [],
   "metadata": {}
  },
  {
   "cell_type": "code",
   "execution_count": 51,
   "source": [
    "# 3) training loop\r\n",
    "num_epochs = 1000\r\n",
    "for epoch in range(num_epochs):\r\n",
    "    #forward pass and loss\r\n",
    "    y_predicted = model(X_train)\r\n",
    "    loss = criterion(y_predicted,y_train)\r\n",
    "\r\n",
    "    #backwards pass\r\n",
    "    loss.backward()\r\n",
    "\r\n",
    "    #update\r\n",
    "    optimizer.step()\r\n",
    "    optimizer.zero_grad()\r\n",
    "\r\n",
    "    if (epoch+1) % 100 == 0:\r\n",
    "        print(f'epoch: {epoch+1}, loss = {loss.item():.4f}')"
   ],
   "outputs": [
    {
     "output_type": "stream",
     "name": "stdout",
     "text": [
      "epoch: 1000, loss = 0.0885\n",
      "epoch: 2000, loss = 0.0692\n",
      "epoch: 3000, loss = 0.0605\n",
      "epoch: 4000, loss = 0.0551\n",
      "epoch: 5000, loss = 0.0513\n",
      "epoch: 6000, loss = 0.0484\n",
      "epoch: 7000, loss = 0.0461\n",
      "epoch: 8000, loss = 0.0442\n",
      "epoch: 9000, loss = 0.0426\n",
      "epoch: 10000, loss = 0.0412\n"
     ]
    }
   ],
   "metadata": {}
  },
  {
   "cell_type": "code",
   "execution_count": 52,
   "source": [
    "with torch.no_grad():\r\n",
    "    y_predicted = model(X_test)\r\n",
    "    y_predicted_cls = y_predicted.round()\r\n",
    "    acc = y_predicted_cls.eq(y_test).sum() / float(y_test.shape[0])\r\n",
    "    print(f'accuracy = {acc:.4f}')"
   ],
   "outputs": [
    {
     "output_type": "stream",
     "name": "stdout",
     "text": [
      "accuracy = 0.9561\n"
     ]
    }
   ],
   "metadata": {}
  }
 ],
 "metadata": {
  "orig_nbformat": 4,
  "language_info": {
   "name": "python",
   "version": "3.8.8",
   "mimetype": "text/x-python",
   "codemirror_mode": {
    "name": "ipython",
    "version": 3
   },
   "pygments_lexer": "ipython3",
   "nbconvert_exporter": "python",
   "file_extension": ".py"
  },
  "kernelspec": {
   "name": "python3",
   "display_name": "Python 3.8.8 64-bit ('base': conda)"
  },
  "interpreter": {
   "hash": "8b7a5e7e088dc87b16d72ecb84aa6dc0c370a308eb78f8481e88a4680c33e6f1"
  }
 },
 "nbformat": 4,
 "nbformat_minor": 2
}