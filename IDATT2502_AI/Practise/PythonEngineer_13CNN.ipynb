{
 "cells": [
  {
   "cell_type": "code",
   "execution_count": 19,
   "source": [
    "# MNIST\r\n",
    "# DataLoader, Transformation\r\n",
    "# Multilayer Nerual Net, activation function\r\n",
    "# Loss and Optimizer\r\n",
    "# Training Loop\r\n",
    "# Model evaluation\r\n",
    "# GPU support"
   ],
   "outputs": [],
   "metadata": {}
  },
  {
   "cell_type": "code",
   "execution_count": 20,
   "source": [
    "import torch\r\n",
    "import torch.nn as nn\r\n",
    "import torchvision\r\n",
    "import torchvision.transforms as transforms\r\n",
    "import matplotlib.pyplot as plt"
   ],
   "outputs": [],
   "metadata": {}
  },
  {
   "cell_type": "code",
   "execution_count": 21,
   "source": [
    "device = torch.device('cuda' if torch.cuda.is_available() else 'cpu')\r\n",
    "\r\n",
    "input_size = 784 # 28x28\r\n",
    "hidden_size = 100\r\n",
    "num_classes = 10\r\n",
    "num_epochs = 2\r\n",
    "batch_size = 100\r\n",
    "learning_rate = 0.001"
   ],
   "outputs": [],
   "metadata": {}
  },
  {
   "cell_type": "code",
   "execution_count": 22,
   "source": [
    "train_datasets = torchvision.datasets.MNIST(root='./data', train=True,transform=transforms.ToTensor(), download=True)\r\n",
    "test_datasets = torchvision.datasets.MNIST(root='./data', train=False,transform=transforms.ToTensor())\r\n",
    "\r\n",
    "train_loader = torch.utils.data.DataLoader(dataset=train_datasets, batch_size=batch_size, shuffle=True)\r\n",
    "test_loader = torch.utils.data.DataLoader(dataset=test_datasets, batch_size=batch_size, shuffle=False)\r\n",
    "\r\n",
    "examples = iter(train_loader)\r\n",
    "samples, labels = examples.next()\r\n",
    "print(samples.shape, labels.shape)"
   ],
   "outputs": [
    {
     "output_type": "stream",
     "name": "stdout",
     "text": [
      "torch.Size([100, 1, 28, 28]) torch.Size([100])\n"
     ]
    }
   ],
   "metadata": {}
  },
  {
   "cell_type": "code",
   "execution_count": 25,
   "source": [
    "for i in range(6):\r\n",
    "    plt.subplot(2,3,i+1)\r\n",
    "    plt.imshow(samples[i][0],cmap='gray')\r\n",
    "#plt.show()"
   ],
   "outputs": [
    {
     "output_type": "display_data",
     "data": {
      "image/png": "[encoded data removed]",
      "text/plain": [
       "<Figure size 432x288 with 6 Axes>"
      ]
     },
     "metadata": {
      "needs_background": "light"
     }
    }
   ],
   "metadata": {}
  },
  {
   "cell_type": "code",
   "execution_count": 26,
   "source": [
    "class NeuralNet(nn.Module):\r\n",
    "    def __init__(self, input_size, hidden_size, num_classes):\r\n",
    "        super(NeuralNet, self).__init__()\r\n",
    "        self.l1 = nn.Linear(input_size,hidden_size)\r\n",
    "        self.relu = nn.ReLU()\r\n",
    "        self.l2 = nn.Linear(hidden_size, num_classes)\r\n",
    "    \r\n",
    "    def forward(self,x):\r\n",
    "        out = self.l1(x)\r\n",
    "        out = self.relu(out)\r\n",
    "        out = self.l2(out)\r\n",
    "        return out\r\n",
    "\r\n",
    "model = NeuralNet(input_size, hidden_size, num_classes)"
   ],
   "outputs": [],
   "metadata": {}
  },
  {
   "cell_type": "code",
   "execution_count": 27,
   "source": [
    "#Loss\r\n",
    "criterion = nn.CrossEntropyLoss()\r\n",
    "optimizer = torch.optim.Adam(model.parameters(), lr=learning_rate)"
   ],
   "outputs": [],
   "metadata": {}
  },
  {
   "cell_type": "code",
   "execution_count": null,
   "source": [
    "n_total_steps = len(train_loader)\r\n",
    "for epoch in range(num_epochs):\r\n",
    "    for i, (images, labes) in enumerate(train_loader):\r\n",
    "        images = images.reshape(-1, 28*28).to(device)\r\n",
    "        labels = labels.to(device)\r\n",
    "\r\n",
    "        outputs = model(images)\r\n",
    "        loss = criterion(outputs,labes)\r\n",
    "\r\n",
    "        optimizer.zero_grad()\r\n",
    "        loss.backward()\r\n",
    "        optimizer.step()\r\n",
    "\r\n",
    "        if(i+1) % 100 == 0:\r\n",
    "            print(f'epoch {epoch+1} / {num_epochs}, step {i+1}/{n_total_steps}, loss = {loss.item():.4f}')"
   ],
   "outputs": [],
   "metadata": {}
  },
  {
   "cell_type": "code",
   "execution_count": null,
   "source": [
    "#test\r\n",
    "with torch.no_grad():\r\n",
    "    n_correct = 0\r\n",
    "    n_samples = 0\r\n",
    "    for images, labels in test_loader:\r\n",
    "        images = images.reshape(-1, 28*28).to(device)\r\n",
    "        labels = labels.to(device)\r\n",
    "        outputs = model(images)\r\n",
    "\r\n",
    "        _, predictions = torch.max(outputs,1)\r\n",
    "        n_samples += labels.shape[0]\r\n",
    "        n_correct += (predictions == labels).sum().item()\r\n",
    "\r\n",
    "acc = 100.0 *n_correct/n_samples\r\n",
    "print(f'accuracy = {acc}')"
   ],
   "outputs": [],
   "metadata": {}
  }
 ],
 "metadata": {
  "orig_nbformat": 4,
  "language_info": {
   "name": "python",
   "version": "3.8.8",
   "mimetype": "text/x-python",
   "codemirror_mode": {
    "name": "ipython",
    "version": 3
   },
   "pygments_lexer": "ipython3",
   "nbconvert_exporter": "python",
   "file_extension": ".py"
  },
  "kernelspec": {
   "name": "python3",
   "display_name": "Python 3.8.8 64-bit ('base': conda)"
  },
  "interpreter": {
   "hash": "8b7a5e7e088dc87b16d72ecb84aa6dc0c370a308eb78f8481e88a4680c33e6f1"
  }
 },
 "nbformat": 4,
 "nbformat_minor": 2
}