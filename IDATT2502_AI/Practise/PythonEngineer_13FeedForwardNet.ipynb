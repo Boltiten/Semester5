{
 "cells": [
  {
   "cell_type": "code",
   "execution_count": 101,
   "source": [
    "# MNIST\r\n",
    "# DataLoader, Transformation\r\n",
    "# Multilayer Nerual Net, activation function\r\n",
    "# Loss and Optimizer\r\n",
    "# Training Loop\r\n",
    "# Model evaluation\r\n",
    "# GPU support"
   ],
   "outputs": [],
   "metadata": {}
  },
  {
   "cell_type": "code",
   "execution_count": 102,
   "source": [
    "import torch\r\n",
    "import torch.nn as nn\r\n",
    "import torchvision\r\n",
    "import torchvision.transforms as transforms\r\n",
    "import matplotlib.pyplot as plt"
   ],
   "outputs": [],
   "metadata": {}
  },
  {
   "cell_type": "code",
   "execution_count": 103,
   "source": [
    "device = torch.device('cuda' if torch.cuda.is_available() else 'cpu')\r\n",
    "print(device)\r\n",
    "\r\n",
    "input_size = 784 # 28x28\r\n",
    "hidden_size = 100\r\n",
    "num_classes = 10\r\n",
    "num_epochs = 2\r\n",
    "batch_size = 100\r\n",
    "learning_rate = 0.001"
   ],
   "outputs": [
    {
     "output_type": "stream",
     "name": "stdout",
     "text": [
      "cuda\n"
     ]
    }
   ],
   "metadata": {}
  },
  {
   "cell_type": "code",
   "execution_count": 104,
   "source": [
    "train_datasets = torchvision.datasets.MNIST(root='./data', train=True,transform=transforms.ToTensor(), download=True)\r\n",
    "test_datasets = torchvision.datasets.MNIST(root='./data', train=False,transform=transforms.ToTensor())\r\n",
    "\r\n",
    "train_loader = torch.utils.data.DataLoader(dataset=train_datasets, batch_size=batch_size, shuffle=True)\r\n",
    "test_loader = torch.utils.data.DataLoader(dataset=test_datasets, batch_size=batch_size, shuffle=False)\r\n",
    "\r\n",
    "examples = iter(train_loader)\r\n",
    "samples, labels = examples.next()\r\n",
    "print(samples.shape, labels.shape)"
   ],
   "outputs": [
    {
     "output_type": "stream",
     "name": "stdout",
     "text": [
      "torch.Size([100, 1, 28, 28]) torch.Size([100])\n"
     ]
    }
   ],
   "metadata": {}
  },
  {
   "cell_type": "code",
   "execution_count": 105,
   "source": [
    "class NeuralNet(nn.Module):\r\n",
    "    def __init__(self, input_size, hidden_size, num_classes):\r\n",
    "        super(NeuralNet, self).__init__()\r\n",
    "        self.input_size = input_size\r\n",
    "        self.l1 = nn.Linear(input_size,hidden_size)\r\n",
    "        self.relu = nn.ReLU()\r\n",
    "        self.l2 = nn.Linear(hidden_size, num_classes)\r\n",
    "    \r\n",
    "    def forward(self,x):\r\n",
    "        out = self.l1(x)\r\n",
    "        out = self.relu(out)\r\n",
    "        out = self.l2(out)\r\n",
    "        return out\r\n",
    "\r\n",
    "model = NeuralNet(input_size, hidden_size, num_classes).to(device)"
   ],
   "outputs": [],
   "metadata": {}
  },
  {
   "cell_type": "code",
   "execution_count": 106,
   "source": [
    "#Loss\r\n",
    "criterion = nn.CrossEntropyLoss()\r\n",
    "optimizer = torch.optim.Adam(model.parameters(), lr=learning_rate)"
   ],
   "outputs": [],
   "metadata": {}
  },
  {
   "cell_type": "code",
   "execution_count": 107,
   "source": [
    "n_total_steps = len(train_loader)\r\n",
    "for epoch in range(num_epochs):\r\n",
    "    for i, (images, labels) in enumerate(train_loader):\r\n",
    "        images = images.reshape(-1, 28*28).to(device)\r\n",
    "        labels = labels.to(device)\r\n",
    "\r\n",
    "        #forward pass\r\n",
    "        outputs = model(images)\r\n",
    "        loss = criterion(outputs,labels)\r\n",
    "\r\n",
    "        #backward pass and optimize\r\n",
    "        optimizer.zero_grad()\r\n",
    "        loss.backward()\r\n",
    "        optimizer.step()\r\n",
    "\r\n",
    "        if(i+1) % 100 == 0:\r\n",
    "            print(f'epoch {epoch+1} / {num_epochs}, step {i+1}/{n_total_steps}, loss = {loss.item():.4f}')"
   ],
   "outputs": [
    {
     "output_type": "stream",
     "name": "stdout",
     "text": [
      "epoch 1 / 10, step 100/600, loss = 1.8032\n",
      "epoch 1 / 10, step 200/600, loss = 1.3684\n",
      "epoch 1 / 10, step 300/600, loss = 0.9970\n",
      "epoch 1 / 10, step 400/600, loss = 0.7456\n",
      "epoch 1 / 10, step 500/600, loss = 0.7366\n",
      "epoch 1 / 10, step 600/600, loss = 0.6256\n",
      "epoch 2 / 10, step 100/600, loss = 0.4901\n",
      "epoch 2 / 10, step 200/600, loss = 0.4624\n",
      "epoch 2 / 10, step 300/600, loss = 0.4730\n",
      "epoch 2 / 10, step 400/600, loss = 0.4445\n",
      "epoch 2 / 10, step 500/600, loss = 0.3460\n",
      "epoch 2 / 10, step 600/600, loss = 0.3461\n",
      "epoch 3 / 10, step 100/600, loss = 0.3711\n",
      "epoch 3 / 10, step 200/600, loss = 0.2287\n",
      "epoch 3 / 10, step 300/600, loss = 0.2357\n",
      "epoch 3 / 10, step 400/600, loss = 0.3882\n",
      "epoch 3 / 10, step 500/600, loss = 0.3150\n",
      "epoch 3 / 10, step 600/600, loss = 0.2431\n",
      "epoch 4 / 10, step 100/600, loss = 0.3611\n",
      "epoch 4 / 10, step 200/600, loss = 0.3673\n",
      "epoch 4 / 10, step 300/600, loss = 0.2899\n",
      "epoch 4 / 10, step 400/600, loss = 0.3298\n",
      "epoch 4 / 10, step 500/600, loss = 0.3489\n",
      "epoch 4 / 10, step 600/600, loss = 0.3122\n",
      "epoch 5 / 10, step 100/600, loss = 0.4087\n",
      "epoch 5 / 10, step 200/600, loss = 0.3443\n",
      "epoch 5 / 10, step 300/600, loss = 0.2968\n",
      "epoch 5 / 10, step 400/600, loss = 0.2688\n",
      "epoch 5 / 10, step 500/600, loss = 0.3153\n",
      "epoch 5 / 10, step 600/600, loss = 0.3427\n",
      "epoch 6 / 10, step 100/600, loss = 0.2054\n",
      "epoch 6 / 10, step 200/600, loss = 0.1713\n",
      "epoch 6 / 10, step 300/600, loss = 0.2795\n",
      "epoch 6 / 10, step 400/600, loss = 0.2258\n",
      "epoch 6 / 10, step 500/600, loss = 0.2625\n",
      "epoch 6 / 10, step 600/600, loss = 0.4945\n",
      "epoch 7 / 10, step 100/600, loss = 0.1751\n",
      "epoch 7 / 10, step 200/600, loss = 0.2399\n",
      "epoch 7 / 10, step 300/600, loss = 0.1398\n",
      "epoch 7 / 10, step 400/600, loss = 0.2820\n",
      "epoch 7 / 10, step 500/600, loss = 0.3278\n",
      "epoch 7 / 10, step 600/600, loss = 0.2247\n",
      "epoch 8 / 10, step 100/600, loss = 0.2311\n",
      "epoch 8 / 10, step 200/600, loss = 0.1953\n",
      "epoch 8 / 10, step 300/600, loss = 0.2484\n",
      "epoch 8 / 10, step 400/600, loss = 0.1595\n",
      "epoch 8 / 10, step 500/600, loss = 0.1552\n",
      "epoch 8 / 10, step 600/600, loss = 0.2085\n",
      "epoch 9 / 10, step 100/600, loss = 0.2190\n",
      "epoch 9 / 10, step 200/600, loss = 0.2653\n",
      "epoch 9 / 10, step 300/600, loss = 0.2611\n",
      "epoch 9 / 10, step 400/600, loss = 0.3002\n",
      "epoch 9 / 10, step 500/600, loss = 0.2648\n",
      "epoch 9 / 10, step 600/600, loss = 0.1916\n",
      "epoch 10 / 10, step 100/600, loss = 0.1602\n",
      "epoch 10 / 10, step 200/600, loss = 0.2958\n",
      "epoch 10 / 10, step 300/600, loss = 0.2224\n",
      "epoch 10 / 10, step 400/600, loss = 0.2214\n",
      "epoch 10 / 10, step 500/600, loss = 0.2915\n",
      "epoch 10 / 10, step 600/600, loss = 0.3134\n"
     ]
    }
   ],
   "metadata": {}
  },
  {
   "cell_type": "code",
   "execution_count": 108,
   "source": [
    "#test\r\n",
    "with torch.no_grad():\r\n",
    "    n_correct = 0\r\n",
    "    n_samples = 0\r\n",
    "    for images, labels in test_loader:\r\n",
    "        images = images.reshape(-1, 28*28).to(device)\r\n",
    "        labels = labels.to(device)\r\n",
    "        outputs = model(images)\r\n",
    "\r\n",
    "        _, predictions = torch.max(outputs,1)\r\n",
    "        n_samples += labels.shape[0]\r\n",
    "        n_correct += (predictions == labels).sum().item()\r\n",
    "\r\n",
    "acc = 100.0 *n_correct/n_samples\r\n",
    "print(f'accuracy = {acc}')"
   ],
   "outputs": [
    {
     "output_type": "stream",
     "name": "stdout",
     "text": [
      "accuracy = 94.0\n"
     ]
    }
   ],
   "metadata": {}
  }
 ],
 "metadata": {
  "orig_nbformat": 4,
  "language_info": {
   "name": "python",
   "version": "3.8.8",
   "mimetype": "text/x-python",
   "codemirror_mode": {
    "name": "ipython",
    "version": 3
   },
   "pygments_lexer": "ipython3",
   "nbconvert_exporter": "python",
   "file_extension": ".py"
  },
  "kernelspec": {
   "name": "python3",
   "display_name": "Python 3.8.8 64-bit ('base': conda)"
  },
  "interpreter": {
   "hash": "8b7a5e7e088dc87b16d72ecb84aa6dc0c370a308eb78f8481e88a4680c33e6f1"
  }
 },
 "nbformat": 4,
 "nbformat_minor": 2
}