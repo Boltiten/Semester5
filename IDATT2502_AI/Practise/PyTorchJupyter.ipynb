{
 "cells": [
  {
   "cell_type": "code",
   "execution_count": 1,
   "source": [
    "import torch\n",
    "import numpy as np"
   ],
   "outputs": [],
   "metadata": {}
  },
  {
   "cell_type": "code",
   "execution_count": 7,
   "source": [
    "x_train = torch.tensor([[1.0, 2.0],\n",
    "                        [2.0,2.0],\n",
    "                        [2.0,3.0]])\n",
    "y_train = torch.Tensor([[3.0],\n",
    "                        [4.0],\n",
    "                        [5.0]])"
   ],
   "outputs": [],
   "metadata": {}
  },
  {
   "cell_type": "code",
   "execution_count": 14,
   "source": [
    "class Model:\n",
    "    def __init__(self):\n",
    "        self.W = torch.tensor([[0.5],[0.5]])\n",
    "\n",
    "    def f(self,x):\n",
    "        return x @self.W\n",
    "\n",
    "    def loss(self,x,y):\n",
    "        return(torch.mean(torch.square(self.f(x) - y)))\n",
    "\n",
    "model = Model()\n"
   ],
   "outputs": [],
   "metadata": {}
  },
  {
   "cell_type": "code",
   "execution_count": 15,
   "source": [
    "print(model.loss(x_train,y_train))"
   ],
   "outputs": [
    {
     "output_type": "stream",
     "name": "stdout",
     "text": [
      "tensor(0.)\n"
     ]
    }
   ],
   "metadata": {}
  },
  {
   "cell_type": "code",
   "execution_count": 11,
   "source": [
    "model.W = torch.Tensor([[1.0],[1.0]])\n",
    "print(model.loss(x_train,y_train))"
   ],
   "outputs": [
    {
     "output_type": "stream",
     "name": "stdout",
     "text": [
      "tensor(0.)\n"
     ]
    }
   ],
   "metadata": {}
  }
 ],
 "metadata": {
  "kernelspec": {
   "name": "python3",
   "display_name": "Python 3.9.5 64-bit ('base': conda)"
  },
  "language_info": {
   "codemirror_mode": {
    "name": "ipython",
    "version": 3
   },
   "file_extension": ".py",
   "mimetype": "text/x-python",
   "name": "python",
   "nbconvert_exporter": "python",
   "pygments_lexer": "ipython3",
   "version": "3.9.5"
  },
  "interpreter": {
   "hash": "cbffac13e5ac1cce39c2ecf079cf3fde314e664bdbfc8414e8787c310d5570e3"
  }
 },
 "nbformat": 4,
 "nbformat_minor": 5
}