{
 "cells": [
  {
   "cell_type": "code",
   "execution_count": 83,
   "source": [
    "# Convolutional neural network\r\n",
    "# Made up of neurons\r\n",
    "# Applies convolutional filters"
   ],
   "outputs": [],
   "metadata": {}
  },
  {
   "cell_type": "code",
   "execution_count": 84,
   "source": [
    "import torch\r\n",
    "import torch.nn as nn\r\n",
    "import torch.nn.functional as F\r\n",
    "import torchvision\r\n",
    "import torchvision.transforms as transforms\r\n",
    "import matplotlib.pyplot as plt\r\n",
    "import numpy as np"
   ],
   "outputs": [],
   "metadata": {}
  },
  {
   "cell_type": "code",
   "execution_count": 85,
   "source": [
    "#Device, gpu\r\n",
    "device = torch.device('cuda' if torch.cuda.is_available() else 'cpu')\r\n",
    "print(device)\r\n",
    "\r\n",
    "#Hyper params\r\n",
    "num_epochs = 2\r\n",
    "batch_size = 1\r\n",
    "learning_rate = 0.001"
   ],
   "outputs": [
    {
     "output_type": "stream",
     "name": "stdout",
     "text": [
      "cuda\n"
     ]
    }
   ],
   "metadata": {}
  },
  {
   "cell_type": "code",
   "execution_count": 86,
   "source": [
    "transform = transforms.Compose([transforms.ToTensor(), transforms.Normalize((0.5,0.5,0.5),(0.5,0.5,0.5))])\r\n",
    "\r\n",
    "train_datasets = torchvision.datasets.FashionMNIST(root='./data', train=True,transform=transforms.ToTensor(), download=True)\r\n",
    "test_datasets = torchvision.datasets.FashionMNIST(root='./data', train=False,transform=transforms.ToTensor())\r\n",
    "\r\n",
    "train_loader = torch.utils.data.DataLoader(dataset=train_datasets, batch_size=batch_size, shuffle=True)\r\n",
    "test_loader = torch.utils.data.DataLoader(dataset=test_datasets, batch_size=batch_size, shuffle=False)\r\n",
    "\r\n",
    "classes = ('T-shirt/top', 'Trouser', 'Pullover', 'Dress', 'Coat', 'Sandal', 'Shirt', 'Sneaker', 'Bag', 'Ankle boot')"
   ],
   "outputs": [],
   "metadata": {}
  },
  {
   "cell_type": "code",
   "execution_count": 87,
   "source": [
    "class ConvNet(nn.Module):\r\n",
    "    def __init__(self):\r\n",
    "        super(ConvNet, self).__init__()\r\n",
    "        #Colors: 3, output: 6, kernel_size: 5\r\n",
    "        self.conv1 = nn.Conv2d(1,6,5)\r\n",
    "        #kernel_size: 2, stride: 2\r\n",
    "        self.pool = nn.MaxPool2d(2)\r\n",
    "        #Input = conv1 output som er 6\r\n",
    "        self.conv2 = nn.Conv2d(6, 16, 5)\r\n",
    "        self.fc1 = nn.Linear(64*2*2, 120)\r\n",
    "        self.fc2 = nn.Linear(120, 84)\r\n",
    "        self.fc3 = nn.Linear(84, 10)\r\n",
    "    def forward(self,x):\r\n",
    "        x = self.pool(F.relu(self.conv1(x)))\r\n",
    "        x = self.pool(F.relu(self.conv2(x)))\r\n",
    "        x = x.view(-1, 64*2*2)\r\n",
    "        x = F.relu(self.fc1(x))\r\n",
    "        x = F.relu(self.fc2(x))\r\n",
    "        x = self.fc3(x)\r\n",
    "        return x\r\n",
    "\r\n",
    "model = ConvNet().to(device)"
   ],
   "outputs": [],
   "metadata": {}
  },
  {
   "cell_type": "code",
   "execution_count": 88,
   "source": [
    "#Loss\r\n",
    "criterion = nn.CrossEntropyLoss()\r\n",
    "optimizer = torch.optim.SGD(model.parameters(), lr=learning_rate)"
   ],
   "outputs": [],
   "metadata": {}
  },
  {
   "cell_type": "code",
   "execution_count": 89,
   "source": [
    "n_total_steps = len(train_loader)\r\n",
    "for epoch in range(num_epochs):\r\n",
    "    for i, (images, labels) in enumerate(train_loader):\r\n",
    "        images = images.to(device)\r\n",
    "        labels = labels.to(device)\r\n",
    "\r\n",
    "        #forward pass\r\n",
    "        outputs = model(images)\r\n",
    "        loss = criterion(outputs,labels)\r\n",
    "\r\n",
    "        #backward pass and optimize\r\n",
    "        optimizer.zero_grad()\r\n",
    "        loss.backward()\r\n",
    "        optimizer.step()\r\n",
    "\r\n",
    "        if(i+1) % 10000 == 0:\r\n",
    "            print(f'epoch {epoch+1} / {num_epochs}, step {i+1}/{n_total_steps}, loss = {loss.item():.4f}')\r\n",
    "\r\n",
    "print('Finished Training')"
   ],
   "outputs": [
    {
     "output_type": "stream",
     "name": "stdout",
     "text": [
      "epoch 1 / 2, step 10000/60000, loss = 1.5857\n",
      "epoch 1 / 2, step 20000/60000, loss = 1.1642\n",
      "epoch 1 / 2, step 30000/60000, loss = 1.6366\n",
      "epoch 1 / 2, step 40000/60000, loss = 1.4151\n",
      "epoch 1 / 2, step 50000/60000, loss = 0.0277\n",
      "epoch 1 / 2, step 60000/60000, loss = 0.2085\n",
      "epoch 2 / 2, step 10000/60000, loss = 0.4887\n",
      "epoch 2 / 2, step 20000/60000, loss = 0.0013\n",
      "epoch 2 / 2, step 30000/60000, loss = 0.3750\n",
      "epoch 2 / 2, step 40000/60000, loss = 0.3003\n",
      "epoch 2 / 2, step 50000/60000, loss = 0.5196\n",
      "epoch 2 / 2, step 60000/60000, loss = 0.4286\n",
      "Finished Training\n"
     ]
    }
   ],
   "metadata": {}
  },
  {
   "cell_type": "code",
   "execution_count": 90,
   "source": [
    "#test\r\n",
    "with torch.no_grad():\r\n",
    "    n_correct = 0\r\n",
    "    n_samples = 0\r\n",
    "    n_class_correct = [0 for i in range(10)]\r\n",
    "    n_class_samples = [0 for i in range(10)]\r\n",
    "    for images, labels in test_loader:\r\n",
    "        images = images.to(device)\r\n",
    "        labels = labels.to(device)\r\n",
    "        outputs = model(images)\r\n",
    "\r\n",
    "        _, predicted = torch.max(outputs,1)\r\n",
    "        n_samples += labels.shape[0]\r\n",
    "        n_correct += (predicted == labels).sum().item()\r\n",
    "\r\n",
    "        for i in range(batch_size):\r\n",
    "            label = labels[i]\r\n",
    "            pred = predicted[i]\r\n",
    "            if(label == pred):\r\n",
    "                n_class_correct[label] += 1\r\n",
    "            n_class_samples[label] += 1\r\n",
    "\r\n",
    "acc = 100.0 *n_correct/n_samples\r\n",
    "print(f'Accuracy = {acc}')\r\n",
    "\r\n",
    "for i in range(10):\r\n",
    "    acc = 100.0 * n_class_correct[i] / n_class_samples[i]\r\n",
    "    print(f'Accuracy of {classes[i]}: {acc} %')\r\n"
   ],
   "outputs": [
    {
     "output_type": "stream",
     "name": "stdout",
     "text": [
      "Accuracy = 82.19\n",
      "Accuracy of T-shirt/top: 88.9 %\n",
      "Accuracy of Trouser: 95.9 %\n",
      "Accuracy of Pullover: 69.8 %\n",
      "Accuracy of Dress: 86.2 %\n",
      "Accuracy of Coat: 75.9 %\n",
      "Accuracy of Sandal: 84.6 %\n",
      "Accuracy of Shirt: 38.7 %\n",
      "Accuracy of Sneaker: 86.6 %\n",
      "Accuracy of Bag: 97.3 %\n",
      "Accuracy of Ankle boot: 98.0 %\n"
     ]
    }
   ],
   "metadata": {}
  }
 ],
 "metadata": {
  "orig_nbformat": 4,
  "language_info": {
   "name": "python",
   "version": "3.8.8",
   "mimetype": "text/x-python",
   "codemirror_mode": {
    "name": "ipython",
    "version": 3
   },
   "pygments_lexer": "ipython3",
   "nbconvert_exporter": "python",
   "file_extension": ".py"
  },
  "kernelspec": {
   "name": "python3",
   "display_name": "Python 3.8.8 64-bit ('base': conda)"
  },
  "interpreter": {
   "hash": "8b7a5e7e088dc87b16d72ecb84aa6dc0c370a308eb78f8481e88a4680c33e6f1"
  }
 },
 "nbformat": 4,
 "nbformat_minor": 2
}