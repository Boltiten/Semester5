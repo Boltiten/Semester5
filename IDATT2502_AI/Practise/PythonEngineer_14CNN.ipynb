{
 "cells": [
  {
   "cell_type": "code",
   "execution_count": 9,
   "source": [
    "# Convolutional neural network\r\n",
    "# Made up of neurons\r\n",
    "# Applies convolutional filters"
   ],
   "outputs": [],
   "metadata": {}
  },
  {
   "cell_type": "code",
   "execution_count": 10,
   "source": [
    "import torch\r\n",
    "import torch.nn as nn\r\n",
    "import torch.nn.functional as F\r\n",
    "import torchvision\r\n",
    "import torchvision.transforms as transforms\r\n",
    "import matplotlib.pyplot as plt\r\n",
    "import numpy as np"
   ],
   "outputs": [],
   "metadata": {}
  },
  {
   "cell_type": "code",
   "execution_count": 11,
   "source": [
    "#Device, gpu\r\n",
    "device = torch.device('cuda' if torch.cuda.is_available() else 'cpu')\r\n",
    "print(device)\r\n",
    "\r\n",
    "#Hyper params\r\n",
    "num_epochs = 20\r\n",
    "batch_size = 4\r\n",
    "learning_rate = 0.001"
   ],
   "outputs": [
    {
     "output_type": "stream",
     "name": "stdout",
     "text": [
      "cuda\n"
     ]
    }
   ],
   "metadata": {}
  },
  {
   "cell_type": "code",
   "execution_count": 12,
   "source": [
    "transform = transforms.Compose([transforms.ToTensor(), transforms.Normalize((0.5,0.5,0.5),(0.5,0.5,0.5))])\r\n",
    "\r\n",
    "train_datasets = torchvision.datasets.CIFAR10(root='./data', train=True,transform=transforms.ToTensor(), download=True)\r\n",
    "test_datasets = torchvision.datasets.CIFAR10(root='./data', train=False,transform=transforms.ToTensor())\r\n",
    "\r\n",
    "train_loader = torch.utils.data.DataLoader(dataset=train_datasets, batch_size=batch_size, shuffle=True)\r\n",
    "test_loader = torch.utils.data.DataLoader(dataset=test_datasets, batch_size=batch_size, shuffle=False)\r\n",
    "\r\n",
    "classes = ('plane', 'car', 'bird', 'cat', 'deer', 'dog', 'frog', 'horse', 'ship', 'truck')"
   ],
   "outputs": [
    {
     "output_type": "stream",
     "name": "stdout",
     "text": [
      "Files already downloaded and verified\n"
     ]
    }
   ],
   "metadata": {}
  },
  {
   "cell_type": "code",
   "execution_count": 13,
   "source": [
    "class ConvNet(nn.Module):\r\n",
    "    def __init__(self):\r\n",
    "        super(ConvNet, self).__init__()\r\n",
    "        #Colors: 3, output: 6, kernel_size: 5\r\n",
    "        self.conv1 = nn.Conv2d(3,6,5)\r\n",
    "        #kernel_size: 2, stride: 2\r\n",
    "        self.pool = nn.MaxPool2d(2, 2)\r\n",
    "        #Input = conv1 output som er 6\r\n",
    "        self.conv2 = nn.Conv2d(6, 16, 5)\r\n",
    "        self.fc1 = nn.Linear(16*5*5, 120)\r\n",
    "        self.fc2 = nn.Linear(120, 84)\r\n",
    "        self.fc3 = nn.Linear(84, 10)\r\n",
    "    def forward(self,x):\r\n",
    "        x = self.pool(F.relu(self.conv1(x)))\r\n",
    "        x = self.pool(F.relu(self.conv2(x)))\r\n",
    "        x = x.view(-1, 16*5*5)\r\n",
    "        x = F.relu(self.fc1(x))\r\n",
    "        x = F.relu(self.fc2(x))\r\n",
    "        x = self.fc3(x)\r\n",
    "        return x\r\n",
    "\r\n",
    "model = ConvNet().to(device)"
   ],
   "outputs": [],
   "metadata": {}
  },
  {
   "cell_type": "code",
   "execution_count": 14,
   "source": [
    "#Loss\r\n",
    "criterion = nn.CrossEntropyLoss()\r\n",
    "optimizer = torch.optim.SGD(model.parameters(), lr=learning_rate)"
   ],
   "outputs": [],
   "metadata": {}
  },
  {
   "cell_type": "code",
   "execution_count": 15,
   "source": [
    "n_total_steps = len(train_loader)\r\n",
    "for epoch in range(num_epochs):\r\n",
    "    for i, (images, labels) in enumerate(train_loader):\r\n",
    "        images = images.to(device)\r\n",
    "        labels = labels.to(device)\r\n",
    "\r\n",
    "        #forward pass\r\n",
    "        outputs = model(images)\r\n",
    "        loss = criterion(outputs,labels)\r\n",
    "\r\n",
    "        #backward pass and optimize\r\n",
    "        optimizer.zero_grad()\r\n",
    "        loss.backward()\r\n",
    "        optimizer.step()\r\n",
    "\r\n",
    "        if(i+1) % 2000 == 0:\r\n",
    "            print(f'epoch {epoch+1} / {num_epochs}, step {i+1}/{n_total_steps}, loss = {loss.item():.4f}')\r\n",
    "\r\n",
    "print('Finished Training')"
   ],
   "outputs": [
    {
     "output_type": "stream",
     "name": "stderr",
     "text": [
      "C:\\Users\\Morten\\anaconda3\\lib\\site-packages\\torch\\nn\\functional.py:718: UserWarning: Named tensors and all their associated APIs are an experimental feature and subject to change. Please do not use them for anything important until they are released as stable. (Triggered internally at  ..\\c10/core/TensorImpl.h:1156.)\n",
      "  return torch.max_pool2d(input, kernel_size, stride, padding, dilation, ceil_mode)\n"
     ]
    },
    {
     "output_type": "stream",
     "name": "stdout",
     "text": [
      "epoch 1 / 4, step 2000/12500, loss = 2.3275\n",
      "epoch 1 / 4, step 4000/12500, loss = 2.3059\n",
      "epoch 1 / 4, step 6000/12500, loss = 2.3109\n",
      "epoch 1 / 4, step 8000/12500, loss = 2.2722\n",
      "epoch 1 / 4, step 10000/12500, loss = 2.2719\n",
      "epoch 1 / 4, step 12000/12500, loss = 2.3024\n",
      "epoch 2 / 4, step 2000/12500, loss = 2.2933\n",
      "epoch 2 / 4, step 4000/12500, loss = 2.2903\n",
      "epoch 2 / 4, step 6000/12500, loss = 2.1947\n",
      "epoch 2 / 4, step 8000/12500, loss = 2.1826\n",
      "epoch 2 / 4, step 10000/12500, loss = 2.9240\n",
      "epoch 2 / 4, step 12000/12500, loss = 1.7364\n",
      "epoch 3 / 4, step 2000/12500, loss = 1.4776\n",
      "epoch 3 / 4, step 4000/12500, loss = 1.7571\n",
      "epoch 3 / 4, step 6000/12500, loss = 2.0293\n",
      "epoch 3 / 4, step 8000/12500, loss = 2.2116\n",
      "epoch 3 / 4, step 10000/12500, loss = 2.2234\n",
      "epoch 3 / 4, step 12000/12500, loss = 1.1848\n",
      "epoch 4 / 4, step 2000/12500, loss = 1.8512\n",
      "epoch 4 / 4, step 4000/12500, loss = 1.9267\n",
      "epoch 4 / 4, step 6000/12500, loss = 1.5419\n",
      "epoch 4 / 4, step 8000/12500, loss = 1.2023\n",
      "epoch 4 / 4, step 10000/12500, loss = 1.8077\n",
      "epoch 4 / 4, step 12000/12500, loss = 1.2921\n",
      "Finished Training\n"
     ]
    }
   ],
   "metadata": {}
  },
  {
   "cell_type": "code",
   "execution_count": 18,
   "source": [
    "#test\r\n",
    "with torch.no_grad():\r\n",
    "    n_correct = 0\r\n",
    "    n_samples = 0\r\n",
    "    n_class_correct = [0 for i in range(10)]\r\n",
    "    n_class_samples = [0 for i in range(10)]\r\n",
    "    for images, labels in test_loader:\r\n",
    "        images = images.to(device)\r\n",
    "        labels = labels.to(device)\r\n",
    "        outputs = model(images)\r\n",
    "\r\n",
    "        _, predicted = torch.max(outputs,1)\r\n",
    "        n_samples += labels.shape[0]\r\n",
    "        n_correct += (predicted == labels).sum().item()\r\n",
    "\r\n",
    "        for i in range(batch_size):\r\n",
    "            label = labels[i]\r\n",
    "            pred = predicted[i]\r\n",
    "            if(label == pred):\r\n",
    "                n_class_correct[label] += 1\r\n",
    "            n_class_samples[label] += 1\r\n",
    "\r\n",
    "acc = 100.0 *n_correct/n_samples\r\n",
    "print(f'Accuracy = {acc}')\r\n",
    "\r\n",
    "for i in range(10):\r\n",
    "    acc = 100.0 * n_class_correct[i] / n_class_samples[i]\r\n",
    "    print(f'Accuracy of {classes[i]}: {acc} %')\r\n"
   ],
   "outputs": [
    {
     "output_type": "stream",
     "name": "stdout",
     "text": [
      "Accuracy = 39.15\n",
      "Accuracy of plane: 48.0 %\n",
      "Accuracy of car: 39.6 %\n",
      "Accuracy of bird: 7.1 %\n",
      "Accuracy of cat: 13.4 %\n",
      "Accuracy of deer: 57.1 %\n",
      "Accuracy of dog: 42.6 %\n",
      "Accuracy of frog: 41.8 %\n",
      "Accuracy of horse: 34.4 %\n",
      "Accuracy of ship: 55.4 %\n",
      "Accuracy of truck: 52.1 %\n"
     ]
    }
   ],
   "metadata": {}
  }
 ],
 "metadata": {
  "orig_nbformat": 4,
  "language_info": {
   "name": "python",
   "version": "3.8.8",
   "mimetype": "text/x-python",
   "codemirror_mode": {
    "name": "ipython",
    "version": 3
   },
   "pygments_lexer": "ipython3",
   "nbconvert_exporter": "python",
   "file_extension": ".py"
  },
  "kernelspec": {
   "name": "python3",
   "display_name": "Python 3.8.8 64-bit ('base': conda)"
  },
  "interpreter": {
   "hash": "8b7a5e7e088dc87b16d72ecb84aa6dc0c370a308eb78f8481e88a4680c33e6f1"
  }
 },
 "nbformat": 4,
 "nbformat_minor": 2
}