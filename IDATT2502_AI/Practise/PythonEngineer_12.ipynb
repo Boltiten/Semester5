{
 "cells": [
  {
   "cell_type": "code",
   "execution_count": 14,
   "source": [
    "import torch\r\n",
    "import torch.nn as nn\r\n",
    "import numpy as np"
   ],
   "outputs": [],
   "metadata": {}
  },
  {
   "cell_type": "code",
   "execution_count": 17,
   "source": [
    "loss = nn.CrossEntropyLoss()\r\n",
    "# 3 samples\r\n",
    "Y = torch.tensor([2,0,1])\r\n",
    "Y_pred_good = torch.tensor([[.1,1.,2.1],[2.,1.,.1],[.1,3.,.1]])\r\n",
    "Y_pred_bad = torch.tensor([[.5,2.,.3]])\r\n",
    "\r\n",
    "l1 = loss(Y_pred_good,Y)\r\n",
    "l2 = loss(Y_pred_bad,Y)\r\n",
    "\r\n",
    "print(l1.item())\r\n",
    "print(l2.item())\r\n",
    "\r\n",
    "_, predictions1 = torch.max(Y_pred_good,1)\r\n",
    "_, predictions2 = torch.max(Y_pred_bad,1)\r\n",
    "print(predictions1)\r\n",
    "print(predictions2)"
   ],
   "outputs": [
    {
     "output_type": "stream",
     "name": "stdout",
     "text": [
      "0.4170299470424652\n",
      "1.840616226196289\n",
      "tensor([0])\n",
      "tensor([1])\n"
     ]
    }
   ],
   "metadata": {}
  }
 ],
 "metadata": {
  "orig_nbformat": 4,
  "language_info": {
   "name": "python",
   "version": "3.8.8",
   "mimetype": "text/x-python",
   "codemirror_mode": {
    "name": "ipython",
    "version": 3
   },
   "pygments_lexer": "ipython3",
   "nbconvert_exporter": "python",
   "file_extension": ".py"
  },
  "kernelspec": {
   "name": "python3",
   "display_name": "Python 3.8.8 64-bit ('base': conda)"
  },
  "interpreter": {
   "hash": "8b7a5e7e088dc87b16d72ecb84aa6dc0c370a308eb78f8481e88a4680c33e6f1"
  }
 },
 "nbformat": 4,
 "nbformat_minor": 2
}