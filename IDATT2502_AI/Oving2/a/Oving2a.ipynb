{
 "cells": [
  {
   "cell_type": "code",
   "execution_count": 52,
   "source": [
    "#Lag en modell som predikerer tilsvarende NOT-operatoren.\r\n",
    "#Visualiser resultatet etter optimaliseringen av modellen."
   ],
   "outputs": [],
   "metadata": {}
  },
  {
   "cell_type": "code",
   "execution_count": 53,
   "source": [
    "import torch\r\n",
    "import numpy as np\r\n",
    "import matplotlib.pyplot as plt"
   ],
   "outputs": [],
   "metadata": {}
  },
  {
   "cell_type": "code",
   "execution_count": 54,
   "source": [
    "#base tensors\r\n",
    "x_train = torch.tensor([[0.0],[1.0]]).reshape(-1,1)\r\n",
    "y_train = torch.tensor([[1.0],[0.0]]).reshape(-1,1)"
   ],
   "outputs": [],
   "metadata": {}
  },
  {
   "cell_type": "code",
   "execution_count": 55,
   "source": [
    "class NOToperator:\r\n",
    "    def __init__(self):\r\n",
    "        # Model variables\r\n",
    "        self.W = torch.tensor([[0.0]], requires_grad=True)\r\n",
    "        self.b = torch.tensor([[0.0]], requires_grad=True)\r\n",
    "\r\n",
    "    # Predictor\r\n",
    "    def f(self, x):\r\n",
    "        return torch.sigmoid(self.logits(x))\r\n",
    "\r\n",
    "    def logits(self, x):\r\n",
    "        return x @ self.W + self.b\r\n",
    "\r\n",
    "    # Uses Mean Squared Error\r\n",
    "    def loss(self, x, y):\r\n",
    "        return torch.nn.functional.binary_cross_entropy_with_logits(self.logits(x),y)\r\n",
    "\r\n",
    "model = NOToperator()\r\n"
   ],
   "outputs": [],
   "metadata": {}
  },
  {
   "cell_type": "code",
   "execution_count": 56,
   "source": [
    "\r\n",
    "optimizer = torch.optim.SGD([model.W, model.b], 0.1)\r\n",
    "for epoch in range(10000):\r\n",
    "    model.loss(x_train, y_train).backward()\r\n",
    "    optimizer.step()\r\n",
    "    optimizer.zero_grad()  # Clear gradients for next step"
   ],
   "outputs": [],
   "metadata": {}
  },
  {
   "cell_type": "code",
   "execution_count": 57,
   "source": [
    "# Print model variables and loss\r\n",
    "print(\"W = %s, b = %s, loss = %s\" % (model.W, model.b, model.loss(x_train, y_train)))\r\n",
    "\r\n",
    "# Visualize result\r\n",
    "plt.plot(x_train, y_train, 'o', label='$(x^{(i)}, y^{(i)})$')\r\n",
    "plt.xlabel('x')\r\n",
    "plt.ylabel('y')\r\n",
    "x = torch.linspace(torch.min(x_train), torch.max(x_train), 10).reshape(-1, 1)\r\n",
    "plt.plot(x, model.f(x).detach(), label='$\\\\hat y = f(x) = 20\\\\sigma(xW+b$)+31')\r\n",
    "plt.legend()\r\n",
    "plt.show()\r\n"
   ],
   "outputs": [
    {
     "output_type": "stream",
     "name": "stdout",
     "text": [
      "W = tensor([[-10.5934]], requires_grad=True), b = tensor([[5.0927]], requires_grad=True), loss = tensor(0.0051, grad_fn=<BinaryCrossEntropyWithLogitsBackward>)\n"
     ]
    },
    {
     "output_type": "display_data",
     "data": {
      "image/png": "[encoded data removed]",
      "text/plain": [
       "<Figure size 432x288 with 1 Axes>"
      ]
     },
     "metadata": {
      "needs_background": "light"
     }
    }
   ],
   "metadata": {}
  },
  {
   "cell_type": "code",
   "execution_count": 58,
   "source": [
    "torch.logical_not(x_train)\r\n",
    "\r\n"
   ],
   "outputs": [
    {
     "output_type": "execute_result",
     "data": {
      "text/plain": [
       "tensor([[ True],\n",
       "        [False]])"
      ]
     },
     "metadata": {},
     "execution_count": 58
    }
   ],
   "metadata": {}
  }
 ],
 "metadata": {
  "orig_nbformat": 4,
  "language_info": {
   "name": "python",
   "version": "3.8.8",
   "mimetype": "text/x-python",
   "codemirror_mode": {
    "name": "ipython",
    "version": 3
   },
   "pygments_lexer": "ipython3",
   "nbconvert_exporter": "python",
   "file_extension": ".py"
  },
  "kernelspec": {
   "name": "python3",
   "display_name": "Python 3.8.8 64-bit"
  },
  "interpreter": {
   "hash": "8b7a5e7e088dc87b16d72ecb84aa6dc0c370a308eb78f8481e88a4680c33e6f1"
  }
 },
 "nbformat": 4,
 "nbformat_minor": 2
}