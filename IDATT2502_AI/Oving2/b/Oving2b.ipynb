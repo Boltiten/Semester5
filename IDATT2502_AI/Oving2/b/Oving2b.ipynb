{
 "cells": [
  {
   "cell_type": "code",
   "execution_count": null,
   "source": [
    "#Lag en modell som predikerer tilsvarende NAND-operatoren.\r\n",
    "#Visualiser resultatet etter optimaliseringen av modellen."
   ],
   "outputs": [],
   "metadata": {}
  }
 ],
 "metadata": {
  "orig_nbformat": 4,
  "language_info": {
   "name": "python"
  }
 },
 "nbformat": 4,
 "nbformat_minor": 2
}