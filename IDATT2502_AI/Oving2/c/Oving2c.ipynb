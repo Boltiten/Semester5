{
 "cells": [
  {
   "cell_type": "code",
   "execution_count": 77,
   "source": [
    "#Lag en modell som predikerer tilsvarende XOR-Operatoren.\r\n",
    "#Før du optimaliserer denne modellen må du initialisere modellvariablene med tilfeldige tall, for eksempel mellom -1 og 1.\r\n",
    "#Visualiser både når modellen konvergerer og ikke konvergerer mot en riktig modell."
   ],
   "outputs": [],
   "metadata": {}
  },
  {
   "cell_type": "code",
   "execution_count": 78,
   "source": [
    "import torch\r\n",
    "import numpy as np\r\n",
    "import matplotlib.pyplot as plt"
   ],
   "outputs": [],
   "metadata": {}
  },
  {
   "cell_type": "code",
   "execution_count": 79,
   "source": [
    "x1 = np.array([0.,0.,1.,1.], dtype=np.float32)\r\n",
    "x2 = np.array([0.,1.,0.,1.], dtype=np.float32)\r\n",
    "y = np.array([0.,0.,0.,1.], dtype=np.float32)"
   ],
   "outputs": [],
   "metadata": {}
  },
  {
   "cell_type": "code",
   "execution_count": 80,
   "source": [
    "plt.scatter(x1,x2,c=y)"
   ],
   "outputs": [
    {
     "output_type": "execute_result",
     "data": {
      "text/plain": [
       "<matplotlib.collections.PathCollection at 0x1da476a2cd0>"
      ]
     },
     "metadata": {},
     "execution_count": 80
    },
    {
     "output_type": "display_data",
     "data": {
      "image/png": "[encoded data removed]",
      "text/plain": [
       "<Figure size 432x288 with 1 Axes>"
      ]
     },
     "metadata": {
      "needs_background": "light"
     }
    }
   ],
   "metadata": {}
  },
  {
   "cell_type": "code",
   "execution_count": 81,
   "source": [
    "def create_dataset(x1,x2,y):\r\n",
    "    x1 = np.repeat(x1,50)\r\n",
    "    x2 = np.repeat(x2,50)\r\n",
    "    y = np.repeat(y,50)\r\n",
    "\r\n",
    "    x1 = x1 + np.random.rand(x1.shape[0])*0.05\r\n",
    "    x2 = x2 + np.random.rand(x2.shape[0])*0.05\r\n",
    "\r\n",
    "    #shuffle\r\n",
    "    index_shuffle = np.arange(x1.shape[0])\r\n",
    "    np.random.shuffle(index_shuffle)\r\n",
    "\r\n",
    "    x1 = x1.astype(np.float32)\r\n",
    "    x2 = x2.astype(np.float32)\r\n",
    "    y = y.astype(np.float32)\r\n",
    "\r\n",
    "    x1 = x1[index_shuffle]\r\n",
    "    x2 = x2[index_shuffle]\r\n",
    "    y = y[index_shuffle]\r\n",
    "\r\n",
    "    x1_torch = torch.from_numpy(x1).clone().view(-1,1)\r\n",
    "    x2_torch = torch.from_numpy(x2).clone().view(-1,1)\r\n",
    "    y_torch = torch.from_numpy(y).clone().view(-1,1)\r\n",
    "\r\n",
    "    x = torch.hstack([x1_torch,x2_torch])\r\n",
    "\r\n",
    "\r\n",
    "    x_train = x[:150,:]\r\n",
    "    x_test = x[150:,:]\r\n",
    "    y_train = y_torch[:150,:]\r\n",
    "    y_test = y_torch[150:, :]\r\n",
    "\r\n",
    "    return x_train, y_train, x_test, y_test"
   ],
   "outputs": [],
   "metadata": {}
  },
  {
   "cell_type": "code",
   "execution_count": 82,
   "source": [
    "x_train, y_train, x_test, y_test = create_dataset(x1,x2,y)"
   ],
   "outputs": [],
   "metadata": {}
  },
  {
   "cell_type": "code",
   "execution_count": 83,
   "source": [
    "plt.scatter(x_train[:,0], x_train[:,1], c=y_train)"
   ],
   "outputs": [
    {
     "output_type": "execute_result",
     "data": {
      "text/plain": [
       "<matplotlib.collections.PathCollection at 0x1da477046d0>"
      ]
     },
     "metadata": {},
     "execution_count": 83
    },
    {
     "output_type": "display_data",
     "data": {
      "image/png": "[encoded data removed]",
      "text/plain": [
       "<Figure size 432x288 with 1 Axes>"
      ]
     },
     "metadata": {
      "needs_background": "light"
     }
    }
   ],
   "metadata": {}
  },
  {
   "cell_type": "code",
   "execution_count": 84,
   "source": [
    "class LogisticRegression(torch.nn.Module):\r\n",
    "    def __init__(self,inputDim, outputDim):\r\n",
    "        super(LogisticRegression, self).__init__()\r\n",
    "        self.linear = torch.nn.Linear(inputDim,outputDim)\r\n",
    "\r\n",
    "    def forward(self,x):\r\n",
    "        x = self.linear(x)\r\n",
    "        output = torch.sigmoid(x)\r\n",
    "        return output"
   ],
   "outputs": [],
   "metadata": {}
  },
  {
   "cell_type": "code",
   "execution_count": 85,
   "source": [
    "model_AND = LogisticRegression(2,1)\r\n",
    "criterion = torch.nn.BCELoss()\r\n",
    "optimizer = torch.optim.SGD(model_AND.parameters(), lr=0.01)"
   ],
   "outputs": [],
   "metadata": {}
  },
  {
   "cell_type": "code",
   "execution_count": 86,
   "source": [
    "def train(model, criterion, optimizer, x,y, iter):\r\n",
    "    all_loss = []\r\n",
    "\r\n",
    "    for epoch in range (iter):\r\n",
    "        y_hat = model(x)\r\n",
    "\r\n",
    "        loss = criterion(y_hat,y)\r\n",
    "        all_loss.append(loss.item())\r\n",
    "        loss.backward()\r\n",
    "\r\n",
    "        optimizer.step()\r\n",
    "        optimizer.zero_grad()\r\n",
    "    return all_loss"
   ],
   "outputs": [],
   "metadata": {}
  },
  {
   "cell_type": "code",
   "execution_count": 87,
   "source": [
    "all_loss = train(model_AND, criterion, optimizer, x_train,y_train, 50000)"
   ],
   "outputs": [],
   "metadata": {}
  },
  {
   "cell_type": "code",
   "execution_count": 90,
   "source": [
    "y_pred = model_AND.forward(x_test)\r\n",
    "plt.scatter(y_pred.detach().numpy(), y_test)\r\n"
   ],
   "outputs": [
    {
     "output_type": "execute_result",
     "data": {
      "text/plain": [
       "<matplotlib.collections.PathCollection at 0x1da41346280>"
      ]
     },
     "metadata": {},
     "execution_count": 90
    },
    {
     "output_type": "display_data",
     "data": {
      "image/png": "[encoded data removed]",
      "text/plain": [
       "<Figure size 432x288 with 1 Axes>"
      ]
     },
     "metadata": {
      "needs_background": "light"
     }
    }
   ],
   "metadata": {}
  },
  {
   "cell_type": "code",
   "execution_count": 91,
   "source": [
    "plt.plot(all_loss)"
   ],
   "outputs": [
    {
     "output_type": "execute_result",
     "data": {
      "text/plain": [
       "[<matplotlib.lines.Line2D at 0x1da4139ca60>]"
      ]
     },
     "metadata": {},
     "execution_count": 91
    },
    {
     "output_type": "display_data",
     "data": {
      "image/png": "[encoded data removed]",
      "text/plain": [
       "<Figure size 432x288 with 1 Axes>"
      ]
     },
     "metadata": {
      "needs_background": "light"
     }
    }
   ],
   "metadata": {}
  }
 ],
 "metadata": {
  "orig_nbformat": 4,
  "language_info": {
   "name": "python",
   "version": "3.8.8",
   "mimetype": "text/x-python",
   "codemirror_mode": {
    "name": "ipython",
    "version": 3
   },
   "pygments_lexer": "ipython3",
   "nbconvert_exporter": "python",
   "file_extension": ".py"
  },
  "kernelspec": {
   "name": "python3",
   "display_name": "Python 3.8.8 64-bit"
  },
  "interpreter": {
   "hash": "8b7a5e7e088dc87b16d72ecb84aa6dc0c370a308eb78f8481e88a4680c33e6f1"
  }
 },
 "nbformat": 4,
 "nbformat_minor": 2
}